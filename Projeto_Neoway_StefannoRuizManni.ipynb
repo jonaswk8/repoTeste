{
 "cells": [
  {
   "cell_type": "markdown",
   "id": "76b9af3e",
   "metadata": {},
   "source": [
    "# Projeto Neoway\n",
    "\n",
    "## Stefanno Ruiz Manni\n",
    "\n",
    "### Problema:\n",
    "Você é um funcionário da OMS que deve avaliar os níveis de contaminação de um vírus em um\n",
    "determinado país. As pessoas dentro de uma sociedade podem estar conectadas de alguma\n",
    "maneira (familia, amizade ou trabalho) e cada pessoa possui um conjunto de atributos.\n",
    "\n",
    "Este vírus afeta esta sociedade como descrito a seguir:\n",
    "\n",
    "● a taxa de contaminação varia de pessoa para pessoa;\n",
    "\n",
    "● a taxa de contaminação de uma pessoa A para B é diferente de B para A e depende\n",
    "das características de ambas as pessoas (A e B);\n",
    "\n",
    "● a contaminação só passa através de indivíduos conectados;\n",
    "\n",
    "● não existe cura para essa doença;\n",
    "\n",
    "### O desafio:\n",
    "Foram coletados os dados de contaminação (ou seja, as taxas de contaminação) para metade\n",
    "desta sociedade. Neste problema, você deverá estimar a taxa para o restante dessa sociedade\n",
    "e decidir políticas de saúde com base nos resultados obtidos.\n",
    "Observação: Para determinar as taxas de contaminação, devem ser levados em consideração\n",
    "tanto as características dos infectados quanto dos infectantes."
   ]
  },
  {
   "cell_type": "markdown",
   "id": "29b79967",
   "metadata": {},
   "source": [
    "# Pacotes"
   ]
  },
  {
   "cell_type": "code",
   "execution_count": 375,
   "id": "434df0ae",
   "metadata": {},
   "outputs": [],
   "source": [
    "#Improrts\n",
    "import pandas as pd\n",
    "import numpy as np\n",
    "import os\n",
    "import matplotlib.pyplot as plt\n",
    "%matplotlib inline\n",
    "import seaborn as sns\n",
    "from sklearn.preprocessing import MinMaxScaler\n",
    "from sklearn.model_selection import cross_validate\n",
    "from sklearn.linear_model import LinearRegression\n",
    "from sklearn.model_selection import train_test_split\n",
    "from sklearn.model_selection import KFold\n",
    "from sklearn.linear_model import Lasso, Ridge, LassoCV\n",
    "from sklearn.linear_model import ElasticNet\n",
    "from statsmodels.graphics.gofplots import qqplot\n",
    "from sklearn.ensemble import GradientBoostingRegressor\n",
    "import math"
   ]
  },
  {
   "cell_type": "code",
   "execution_count": 376,
   "id": "69b1891e",
   "metadata": {},
   "outputs": [
    {
     "name": "stdout",
     "output_type": "stream",
     "text": [
      "Python Version: 3.7.10\n",
      "Pandas Version: 1.3.0\n",
      "Numpy Version: 1.20.3\n",
      "Matplotlib Version 3.4.2\n",
      "Seaborn Version 0.11.1\n",
      "Sklearn Version 0.24.2\n",
      "Statsmodels Version 0.24.2\n",
      "Math Version 0.24.2\n"
     ]
    }
   ],
   "source": [
    "#versoes utilizadas -- tambem encontrado em requirements.txt\n",
    "\n",
    "# Versão da Linguagem Python\n",
    "from platform import python_version\n",
    "print('Python Version:', python_version())\n",
    "print('Pandas Version:',pd.__version__)\n",
    "print('Numpy Version:',np.__version__)\n",
    "import matplotlib #importando matplot lib para verificacao da versao\n",
    "print('Matplotlib Version', matplotlib.__version__)\n",
    "print('Seaborn Version', sns.__version__)\n",
    "import sklearn\n",
    "print('Sklearn Version', sklearn.__version__)\n",
    "print('Statsmodels Version', sklearn.__version__)\n",
    "print('Math Version', sklearn.__version__)\n"
   ]
  },
  {
   "cell_type": "code",
   "execution_count": 246,
   "id": "da5ff365",
   "metadata": {},
   "outputs": [],
   "source": [
    "#importa modulo de funcoes\n",
    "import funcoes"
   ]
  },
  {
   "cell_type": "markdown",
   "id": "71cfe380",
   "metadata": {},
   "source": [
    "# Importando datasets"
   ]
  },
  {
   "cell_type": "markdown",
   "id": "775471fe",
   "metadata": {},
   "source": [
    "## Leitura das bases"
   ]
  },
  {
   "cell_type": "code",
   "execution_count": 247,
   "id": "ca7329ce",
   "metadata": {},
   "outputs": [],
   "source": [
    "#realizando a leitura dos arquivos\n",
    "\n",
    "#define diretorio onde estao os arquivos\n",
    "diretorio = r'C:\\Users\\stefanno.ruiz.manni\\OneDrive - Accenture\\Faculdade - Pessoal\\ProjetoNeoway\\Dados'\n",
    "\n",
    "#define nome dos arquivos\n",
    "file_name = 'individuos_espec.csv'\n",
    "file_name2 = 'conexoes_espec.csv'\n",
    "\n",
    "#realiza leitura dos arquivos\n",
    "individuos = funcoes.importa_csv(diretorio,file_name,sep =';')\n",
    "conexoes = funcoes.importa_csv(diretorio,file_name2,sep = ';')"
   ]
  },
  {
   "cell_type": "code",
   "execution_count": 248,
   "id": "201a1046",
   "metadata": {},
   "outputs": [
    {
     "data": {
      "text/plain": [
       "(1000000, 9)"
      ]
     },
     "execution_count": 248,
     "metadata": {},
     "output_type": "execute_result"
    }
   ],
   "source": [
    "individuos.shape"
   ]
  },
  {
   "cell_type": "code",
   "execution_count": 249,
   "id": "73e3d664",
   "metadata": {},
   "outputs": [
    {
     "data": {
      "text/plain": [
       "(999999, 5)"
      ]
     },
     "execution_count": 249,
     "metadata": {},
     "output_type": "execute_result"
    }
   ],
   "source": [
    "conexoes.shape"
   ]
  },
  {
   "cell_type": "code",
   "execution_count": 250,
   "id": "ee28eb46",
   "metadata": {},
   "outputs": [
    {
     "data": {
      "text/html": [
       "<div>\n",
       "<style scoped>\n",
       "    .dataframe tbody tr th:only-of-type {\n",
       "        vertical-align: middle;\n",
       "    }\n",
       "\n",
       "    .dataframe tbody tr th {\n",
       "        vertical-align: top;\n",
       "    }\n",
       "\n",
       "    .dataframe thead th {\n",
       "        text-align: right;\n",
       "    }\n",
       "</style>\n",
       "<table border=\"1\" class=\"dataframe\">\n",
       "  <thead>\n",
       "    <tr style=\"text-align: right;\">\n",
       "      <th></th>\n",
       "      <th>name</th>\n",
       "      <th>idade</th>\n",
       "      <th>estado_civil</th>\n",
       "      <th>qt_filhos</th>\n",
       "      <th>estuda</th>\n",
       "      <th>trabalha</th>\n",
       "      <th>pratica_esportes</th>\n",
       "      <th>transporte_mais_utilizado</th>\n",
       "      <th>IMC</th>\n",
       "    </tr>\n",
       "  </thead>\n",
       "  <tbody>\n",
       "    <tr>\n",
       "      <th>0</th>\n",
       "      <td>1</td>\n",
       "      <td>44.0</td>\n",
       "      <td>divorciado</td>\n",
       "      <td>1.0</td>\n",
       "      <td>1.0</td>\n",
       "      <td>0.0</td>\n",
       "      <td>1.0</td>\n",
       "      <td>publico</td>\n",
       "      <td>22.200956</td>\n",
       "    </tr>\n",
       "    <tr>\n",
       "      <th>1</th>\n",
       "      <td>2</td>\n",
       "      <td>24.0</td>\n",
       "      <td>casado</td>\n",
       "      <td>0.0</td>\n",
       "      <td>0.0</td>\n",
       "      <td>0.0</td>\n",
       "      <td>1.0</td>\n",
       "      <td>publico</td>\n",
       "      <td>25.378720</td>\n",
       "    </tr>\n",
       "    <tr>\n",
       "      <th>2</th>\n",
       "      <td>3</td>\n",
       "      <td>35.0</td>\n",
       "      <td>solteiro</td>\n",
       "      <td>1.0</td>\n",
       "      <td>0.0</td>\n",
       "      <td>0.0</td>\n",
       "      <td>1.0</td>\n",
       "      <td>particular</td>\n",
       "      <td>19.952393</td>\n",
       "    </tr>\n",
       "    <tr>\n",
       "      <th>3</th>\n",
       "      <td>4</td>\n",
       "      <td>50.0</td>\n",
       "      <td>casado</td>\n",
       "      <td>1.0</td>\n",
       "      <td>1.0</td>\n",
       "      <td>1.0</td>\n",
       "      <td>0.0</td>\n",
       "      <td>publico</td>\n",
       "      <td>26.732053</td>\n",
       "    </tr>\n",
       "    <tr>\n",
       "      <th>4</th>\n",
       "      <td>5</td>\n",
       "      <td>30.0</td>\n",
       "      <td>solteiro</td>\n",
       "      <td>2.0</td>\n",
       "      <td>1.0</td>\n",
       "      <td>0.0</td>\n",
       "      <td>1.0</td>\n",
       "      <td>publico</td>\n",
       "      <td>15.295668</td>\n",
       "    </tr>\n",
       "  </tbody>\n",
       "</table>\n",
       "</div>"
      ],
      "text/plain": [
       "   name  idade estado_civil  qt_filhos  estuda  trabalha  pratica_esportes  \\\n",
       "0     1   44.0   divorciado        1.0     1.0       0.0               1.0   \n",
       "1     2   24.0       casado        0.0     0.0       0.0               1.0   \n",
       "2     3   35.0     solteiro        1.0     0.0       0.0               1.0   \n",
       "3     4   50.0       casado        1.0     1.0       1.0               0.0   \n",
       "4     5   30.0     solteiro        2.0     1.0       0.0               1.0   \n",
       "\n",
       "  transporte_mais_utilizado        IMC  \n",
       "0                   publico  22.200956  \n",
       "1                   publico  25.378720  \n",
       "2                particular  19.952393  \n",
       "3                   publico  26.732053  \n",
       "4                   publico  15.295668  "
      ]
     },
     "execution_count": 250,
     "metadata": {},
     "output_type": "execute_result"
    }
   ],
   "source": [
    "#verifica se leitura deu certo\n",
    "individuos.head()"
   ]
  },
  {
   "cell_type": "code",
   "execution_count": 251,
   "id": "487a49d9",
   "metadata": {},
   "outputs": [
    {
     "data": {
      "text/html": [
       "<div>\n",
       "<style scoped>\n",
       "    .dataframe tbody tr th:only-of-type {\n",
       "        vertical-align: middle;\n",
       "    }\n",
       "\n",
       "    .dataframe tbody tr th {\n",
       "        vertical-align: top;\n",
       "    }\n",
       "\n",
       "    .dataframe thead th {\n",
       "        text-align: right;\n",
       "    }\n",
       "</style>\n",
       "<table border=\"1\" class=\"dataframe\">\n",
       "  <thead>\n",
       "    <tr style=\"text-align: right;\">\n",
       "      <th></th>\n",
       "      <th>V1</th>\n",
       "      <th>V2</th>\n",
       "      <th>grau</th>\n",
       "      <th>proximidade</th>\n",
       "      <th>prob_V1_V2</th>\n",
       "    </tr>\n",
       "  </thead>\n",
       "  <tbody>\n",
       "    <tr>\n",
       "      <th>0</th>\n",
       "      <td>1</td>\n",
       "      <td>2</td>\n",
       "      <td>trabalho</td>\n",
       "      <td>visita_frequente</td>\n",
       "      <td>0.589462</td>\n",
       "    </tr>\n",
       "    <tr>\n",
       "      <th>1</th>\n",
       "      <td>1</td>\n",
       "      <td>3</td>\n",
       "      <td>trabalho</td>\n",
       "      <td>visita_rara</td>\n",
       "      <td>0.708465</td>\n",
       "    </tr>\n",
       "    <tr>\n",
       "      <th>2</th>\n",
       "      <td>2</td>\n",
       "      <td>4</td>\n",
       "      <td>trabalho</td>\n",
       "      <td>visita_casual</td>\n",
       "      <td>NaN</td>\n",
       "    </tr>\n",
       "    <tr>\n",
       "      <th>3</th>\n",
       "      <td>2</td>\n",
       "      <td>5</td>\n",
       "      <td>trabalho</td>\n",
       "      <td>visita_rara</td>\n",
       "      <td>0.638842</td>\n",
       "    </tr>\n",
       "    <tr>\n",
       "      <th>4</th>\n",
       "      <td>3</td>\n",
       "      <td>6</td>\n",
       "      <td>amigos</td>\n",
       "      <td>mora_junto</td>\n",
       "      <td>NaN</td>\n",
       "    </tr>\n",
       "  </tbody>\n",
       "</table>\n",
       "</div>"
      ],
      "text/plain": [
       "   V1  V2      grau       proximidade  prob_V1_V2\n",
       "0   1   2  trabalho  visita_frequente    0.589462\n",
       "1   1   3  trabalho       visita_rara    0.708465\n",
       "2   2   4  trabalho     visita_casual         NaN\n",
       "3   2   5  trabalho       visita_rara    0.638842\n",
       "4   3   6    amigos        mora_junto         NaN"
      ]
     },
     "execution_count": 251,
     "metadata": {},
     "output_type": "execute_result"
    }
   ],
   "source": [
    "conexoes.head()"
   ]
  },
  {
   "cell_type": "markdown",
   "id": "eb93548c",
   "metadata": {},
   "source": [
    "## Juntando as duas bases\n",
    "\n",
    "Adicionando os atributos dos individuos V1 e V2 na base de conexoes"
   ]
  },
  {
   "cell_type": "code",
   "execution_count": 252,
   "id": "3a5e9ca8",
   "metadata": {},
   "outputs": [],
   "source": [
    "#acrescentando informacoes sobre o individuo V1 na base de conexoes\n",
    "df = conexoes.merge(individuos, left_on = 'V1', right_on = 'name', how='left')"
   ]
  },
  {
   "cell_type": "code",
   "execution_count": 253,
   "id": "77db3938",
   "metadata": {},
   "outputs": [],
   "source": [
    "#acrescentando informacoes sobre o individuo V2 na base de conexoes\n",
    "df = df.merge(individuos, left_on = 'V2', right_on = 'name', how='left', suffixes = ('_V1','_V2'))"
   ]
  },
  {
   "cell_type": "code",
   "execution_count": 254,
   "id": "9fbc0539",
   "metadata": {},
   "outputs": [],
   "source": [
    "# Separando os dados a serem previstos e os dados coletados da populacao\n",
    "df_to_predict = df[df.prob_V1_V2.isnull()]\n",
    "df_populacao = df[df.prob_V1_V2.notnull()]"
   ]
  },
  {
   "cell_type": "code",
   "execution_count": 255,
   "id": "6ee9eb99",
   "metadata": {},
   "outputs": [
    {
     "data": {
      "text/plain": [
       "Index(['V1', 'V2', 'grau', 'proximidade', 'prob_V1_V2', 'name_V1', 'idade_V1',\n",
       "       'estado_civil_V1', 'qt_filhos_V1', 'estuda_V1', 'trabalha_V1',\n",
       "       'pratica_esportes_V1', 'transporte_mais_utilizado_V1', 'IMC_V1',\n",
       "       'name_V2', 'idade_V2', 'estado_civil_V2', 'qt_filhos_V2', 'estuda_V2',\n",
       "       'trabalha_V2', 'pratica_esportes_V2', 'transporte_mais_utilizado_V2',\n",
       "       'IMC_V2'],\n",
       "      dtype='object')"
      ]
     },
     "execution_count": 255,
     "metadata": {},
     "output_type": "execute_result"
    }
   ],
   "source": [
    "df_populacao.columns"
   ]
  },
  {
   "cell_type": "markdown",
   "id": "f5b8e284",
   "metadata": {},
   "source": [
    "# Transformando variaveis categoricas em variaveis binarias"
   ]
  },
  {
   "cell_type": "markdown",
   "id": "de0ed172",
   "metadata": {},
   "source": [
    "As colunas grau, proximidade, estado_civil e transporte_mais_utilizado sao variaveis categoricas e para facilitar futuras analises e processamentos vamos criar as variaveis binarias representando cada uma das categorias dentro dessas variaveis. Para os casos de nulos sera criado uma variavel binaria apontando que aquela informcao e nula. Dessa forma sera possivel utilizar essas variaveis para previsao da taxa de contaminacao para o restante da populacao.\n",
    "\n",
    "Vamos criar tambem a variavel que junta grau e proximidade para termos essas duas informacoes em uma unica variavel e entender qual combinacao de grau e proximidade que impactam mais na taxa de contaminacao."
   ]
  },
  {
   "cell_type": "code",
   "execution_count": 256,
   "id": "22e10247",
   "metadata": {},
   "outputs": [
    {
     "name": "stderr",
     "output_type": "stream",
     "text": [
      "C:\\Users\\stefanno.ruiz.manni\\Anaconda3\\envs\\neoway\\lib\\site-packages\\pandas\\core\\frame.py:3607: SettingWithCopyWarning: \n",
      "A value is trying to be set on a copy of a slice from a DataFrame.\n",
      "Try using .loc[row_indexer,col_indexer] = value instead\n",
      "\n",
      "See the caveats in the documentation: https://pandas.pydata.org/pandas-docs/stable/user_guide/indexing.html#returning-a-view-versus-a-copy\n",
      "  self._set_item(key, value)\n"
     ]
    }
   ],
   "source": [
    "#concatena\n",
    "df_populacao[\"grau_proximidade\"] = df_populacao['grau'] + \"_\" + df_populacao['proximidade']\n",
    "df_to_predict[\"grau_proximidade\"] = df_to_predict['grau'] + \"_\" + df_to_predict['proximidade']"
   ]
  },
  {
   "cell_type": "code",
   "execution_count": 257,
   "id": "539ae47c",
   "metadata": {},
   "outputs": [],
   "source": [
    "#define variaveis categoricas a serem binarizadas do individuo 1\n",
    "cat_vars_V1 = ['transporte_mais_utilizado_V1','estado_civil_V1','proximidade','grau','grau_proximidade']\n",
    "\n",
    "#define os prefixos das variaveis binarias do individuo1\n",
    "prefixos_V1 = ['transporte_V1','estado_civil_V1','','g','gp']\n",
    "\n",
    "#define variaveis categoricas a serem binzarizadas do individuo2\n",
    "cat_vars_V2 = ['transporte_mais_utilizado_V2','estado_civil_V2']\n",
    "\n",
    "#define os prefixos das variaveis binarias do individuo2\n",
    "prefixos_V2 = ['trasnporte_V2','estado_civil_V2']"
   ]
  },
  {
   "cell_type": "code",
   "execution_count": 258,
   "id": "d1b76ab0",
   "metadata": {},
   "outputs": [],
   "source": [
    "#criando variaveis dummies do individuo V1\n",
    "df_populacao = funcoes.binarizar(df_populacao,cat_vars_V1,prefixos = prefixos_V1)\n",
    "df_to_predict = funcoes.binarizar(df_to_predict,cat_vars_V1,prefixos = prefixos_V1)\n",
    "\n",
    "#criando variaveis dummies do individuo V2\n",
    "df_populacao = funcoes.binarizar(df_populacao,cat_vars_V2,prefixos = prefixos_V2)\n",
    "df_to_predict = funcoes.binarizar(df_to_predict,cat_vars_V2,prefixos = prefixos_V2)"
   ]
  },
  {
   "cell_type": "code",
   "execution_count": 259,
   "id": "64e94807",
   "metadata": {},
   "outputs": [
    {
     "data": {
      "text/plain": [
       "Index(['V1', 'V2', 'grau', 'proximidade', 'prob_V1_V2', 'name_V1', 'idade_V1',\n",
       "       'estado_civil_V1', 'qt_filhos_V1', 'estuda_V1', 'trabalha_V1',\n",
       "       'pratica_esportes_V1', 'transporte_mais_utilizado_V1', 'IMC_V1',\n",
       "       'name_V2', 'idade_V2', 'estado_civil_V2', 'qt_filhos_V2', 'estuda_V2',\n",
       "       'trabalha_V2', 'pratica_esportes_V2', 'transporte_mais_utilizado_V2',\n",
       "       'IMC_V2', 'grau_proximidade', 'transporte_V1_particular',\n",
       "       'transporte_V1_publico', 'transporte_V1_taxi', 'transporte_V1_nan',\n",
       "       'estado_civil_V1_casado', 'estado_civil_V1_divorciado',\n",
       "       'estado_civil_V1_solteiro', 'estado_civil_V1_viuvo',\n",
       "       'estado_civil_V1_nan', '_mora_junto', '_visita_casual',\n",
       "       '_visita_frequente', '_visita_rara', '_nan', 'g_amigos', 'g_familia',\n",
       "       'g_trabalho', 'g_nan', 'gp_amigos_mora_junto',\n",
       "       'gp_amigos_visita_casual', 'gp_amigos_visita_frequente',\n",
       "       'gp_amigos_visita_rara', 'gp_familia_mora_junto',\n",
       "       'gp_familia_visita_casual', 'gp_familia_visita_frequente',\n",
       "       'gp_familia_visita_rara', 'gp_trabalho_mora_junto',\n",
       "       'gp_trabalho_visita_casual', 'gp_trabalho_visita_frequente',\n",
       "       'gp_trabalho_visita_rara', 'gp_nan', 'trasnporte_V2_particular',\n",
       "       'trasnporte_V2_publico', 'trasnporte_V2_taxi', 'trasnporte_V2_nan',\n",
       "       'estado_civil_V2_casado', 'estado_civil_V2_divorciado',\n",
       "       'estado_civil_V2_solteiro', 'estado_civil_V2_viuvo',\n",
       "       'estado_civil_V2_nan'],\n",
       "      dtype='object')"
      ]
     },
     "execution_count": 259,
     "metadata": {},
     "output_type": "execute_result"
    }
   ],
   "source": [
    "df_populacao.columns"
   ]
  },
  {
   "cell_type": "code",
   "execution_count": 260,
   "id": "333a64c5",
   "metadata": {},
   "outputs": [
    {
     "data": {
      "text/plain": [
       "Index(['V1', 'V2', 'grau', 'proximidade', 'prob_V1_V2', 'name_V1', 'idade_V1',\n",
       "       'estado_civil_V1', 'qt_filhos_V1', 'estuda_V1', 'trabalha_V1',\n",
       "       'pratica_esportes_V1', 'transporte_mais_utilizado_V1', 'IMC_V1',\n",
       "       'name_V2', 'idade_V2', 'estado_civil_V2', 'qt_filhos_V2', 'estuda_V2',\n",
       "       'trabalha_V2', 'pratica_esportes_V2', 'transporte_mais_utilizado_V2',\n",
       "       'IMC_V2', 'grau_proximidade', 'transporte_V1_particular',\n",
       "       'transporte_V1_publico', 'transporte_V1_taxi', 'transporte_V1_nan',\n",
       "       'estado_civil_V1_casado', 'estado_civil_V1_divorciado',\n",
       "       'estado_civil_V1_solteiro', 'estado_civil_V1_viuvo',\n",
       "       'estado_civil_V1_nan', '_mora_junto', '_visita_casual',\n",
       "       '_visita_frequente', '_visita_rara', '_nan', 'g_amigos', 'g_familia',\n",
       "       'g_trabalho', 'g_nan', 'gp_amigos_mora_junto',\n",
       "       'gp_amigos_visita_casual', 'gp_amigos_visita_frequente',\n",
       "       'gp_amigos_visita_rara', 'gp_familia_mora_junto',\n",
       "       'gp_familia_visita_casual', 'gp_familia_visita_frequente',\n",
       "       'gp_familia_visita_rara', 'gp_trabalho_mora_junto',\n",
       "       'gp_trabalho_visita_casual', 'gp_trabalho_visita_frequente',\n",
       "       'gp_trabalho_visita_rara', 'gp_nan', 'trasnporte_V2_particular',\n",
       "       'trasnporte_V2_publico', 'trasnporte_V2_taxi', 'trasnporte_V2_nan',\n",
       "       'estado_civil_V2_casado', 'estado_civil_V2_divorciado',\n",
       "       'estado_civil_V2_solteiro', 'estado_civil_V2_viuvo',\n",
       "       'estado_civil_V2_nan'],\n",
       "      dtype='object')"
      ]
     },
     "execution_count": 260,
     "metadata": {},
     "output_type": "execute_result"
    }
   ],
   "source": [
    "df_to_predict.columns"
   ]
  },
  {
   "cell_type": "markdown",
   "id": "9f44bce5",
   "metadata": {},
   "source": [
    "# Analise Exploratoria dos Dados"
   ]
  },
  {
   "cell_type": "markdown",
   "id": "058e05ef",
   "metadata": {},
   "source": [
    "## Entendendo a base de dados"
   ]
  },
  {
   "cell_type": "markdown",
   "id": "d0950c32",
   "metadata": {},
   "source": [
    "### Verificando dados missing"
   ]
  },
  {
   "cell_type": "code",
   "execution_count": 262,
   "id": "776b6508",
   "metadata": {},
   "outputs": [
    {
     "data": {
      "text/plain": [
       "V1                                  0\n",
       "V2                                  0\n",
       "grau                                0\n",
       "proximidade                         0\n",
       "prob_V1_V2                          0\n",
       "name_V1                             0\n",
       "idade_V1                        48297\n",
       "estado_civil_V1                 24991\n",
       "qt_filhos_V1                    14528\n",
       "estuda_V1                       19982\n",
       "trabalha_V1                      3144\n",
       "pratica_esportes_V1             74744\n",
       "transporte_mais_utilizado_V1    21781\n",
       "IMC_V1                          57138\n",
       "name_V2                             0\n",
       "idade_V2                        47724\n",
       "estado_civil_V2                 25113\n",
       "qt_filhos_V2                    14357\n",
       "estuda_V2                       19979\n",
       "trabalha_V2                      3222\n",
       "pratica_esportes_V2             74543\n",
       "transporte_mais_utilizado_V2    21647\n",
       "IMC_V2                          56975\n",
       "grau_proximidade                    0\n",
       "transporte_V1_particular            0\n",
       "transporte_V1_publico               0\n",
       "transporte_V1_taxi                  0\n",
       "transporte_V1_nan                   0\n",
       "estado_civil_V1_casado              0\n",
       "estado_civil_V1_divorciado          0\n",
       "dtype: int64"
      ]
     },
     "execution_count": 262,
     "metadata": {},
     "output_type": "execute_result"
    }
   ],
   "source": [
    "#missing nos dados da populacao\n",
    "df_populacao.isnull().sum()[0:30]"
   ]
  },
  {
   "cell_type": "code",
   "execution_count": 263,
   "id": "e0eaaaf0",
   "metadata": {},
   "outputs": [
    {
     "data": {
      "text/plain": [
       "estado_civil_V1_viuvo           0\n",
       "estado_civil_V1_nan             0\n",
       "_mora_junto                     0\n",
       "_visita_casual                  0\n",
       "_visita_frequente               0\n",
       "_visita_rara                    0\n",
       "_nan                            0\n",
       "g_amigos                        0\n",
       "g_familia                       0\n",
       "g_trabalho                      0\n",
       "g_nan                           0\n",
       "gp_amigos_mora_junto            0\n",
       "gp_amigos_visita_casual         0\n",
       "gp_amigos_visita_frequente      0\n",
       "gp_amigos_visita_rara           0\n",
       "gp_familia_mora_junto           0\n",
       "gp_familia_visita_casual        0\n",
       "gp_familia_visita_frequente     0\n",
       "gp_familia_visita_rara          0\n",
       "gp_trabalho_mora_junto          0\n",
       "gp_trabalho_visita_casual       0\n",
       "gp_trabalho_visita_frequente    0\n",
       "gp_trabalho_visita_rara         0\n",
       "gp_nan                          0\n",
       "trasnporte_V2_particular        0\n",
       "trasnporte_V2_publico           0\n",
       "trasnporte_V2_taxi              0\n",
       "trasnporte_V2_nan               0\n",
       "estado_civil_V2_casado          0\n",
       "estado_civil_V2_divorciado      0\n",
       "estado_civil_V2_solteiro        0\n",
       "estado_civil_V2_viuvo           0\n",
       "estado_civil_V2_nan             0\n",
       "dtype: int64"
      ]
     },
     "execution_count": 263,
     "metadata": {},
     "output_type": "execute_result"
    }
   ],
   "source": [
    "#missing nos dados da populacao\n",
    "df_populacao.isnull().sum()[31:]"
   ]
  },
  {
   "cell_type": "code",
   "execution_count": 264,
   "id": "7cb000bd",
   "metadata": {},
   "outputs": [
    {
     "data": {
      "text/plain": [
       "V1                                   0\n",
       "V2                                   0\n",
       "grau                                 0\n",
       "proximidade                          0\n",
       "prob_V1_V2                      500000\n",
       "name_V1                              0\n",
       "idade_V1                         47797\n",
       "estado_civil_V1                  25037\n",
       "qt_filhos_V1                     14612\n",
       "estuda_V1                        20108\n",
       "trabalha_V1                       3280\n",
       "pratica_esportes_V1              74622\n",
       "transporte_mais_utilizado_V1     21611\n",
       "IMC_V1                           56958\n",
       "name_V2                              0\n",
       "idade_V2                         48213\n",
       "estado_civil_V2                  24960\n",
       "qt_filhos_V2                     14510\n",
       "estuda_V2                        20151\n",
       "trabalha_V2                       3131\n",
       "pratica_esportes_V2              74581\n",
       "transporte_mais_utilizado_V2     21386\n",
       "IMC_V2                           56895\n",
       "grau_proximidade                     0\n",
       "transporte_V1_particular             0\n",
       "transporte_V1_publico                0\n",
       "transporte_V1_taxi                   0\n",
       "transporte_V1_nan                    0\n",
       "estado_civil_V1_casado               0\n",
       "estado_civil_V1_divorciado           0\n",
       "dtype: int64"
      ]
     },
     "execution_count": 264,
     "metadata": {},
     "output_type": "execute_result"
    }
   ],
   "source": [
    "#missing nos dados a serem previstos (restante da populacao)\n",
    "df_to_predict.isnull().sum()[0:30]"
   ]
  },
  {
   "cell_type": "code",
   "execution_count": 267,
   "id": "9049cdca",
   "metadata": {},
   "outputs": [
    {
     "data": {
      "text/plain": [
       "estado_civil_V1_viuvo           0\n",
       "estado_civil_V1_nan             0\n",
       "_mora_junto                     0\n",
       "_visita_casual                  0\n",
       "_visita_frequente               0\n",
       "_visita_rara                    0\n",
       "_nan                            0\n",
       "g_amigos                        0\n",
       "g_familia                       0\n",
       "g_trabalho                      0\n",
       "g_nan                           0\n",
       "gp_amigos_mora_junto            0\n",
       "gp_amigos_visita_casual         0\n",
       "gp_amigos_visita_frequente      0\n",
       "gp_amigos_visita_rara           0\n",
       "gp_familia_mora_junto           0\n",
       "gp_familia_visita_casual        0\n",
       "gp_familia_visita_frequente     0\n",
       "gp_familia_visita_rara          0\n",
       "gp_trabalho_mora_junto          0\n",
       "gp_trabalho_visita_casual       0\n",
       "gp_trabalho_visita_frequente    0\n",
       "gp_trabalho_visita_rara         0\n",
       "gp_nan                          0\n",
       "trasnporte_V2_particular        0\n",
       "trasnporte_V2_publico           0\n",
       "trasnporte_V2_taxi              0\n",
       "trasnporte_V2_nan               0\n",
       "estado_civil_V2_casado          0\n",
       "estado_civil_V2_divorciado      0\n",
       "estado_civil_V2_solteiro        0\n",
       "estado_civil_V2_viuvo           0\n",
       "estado_civil_V2_nan             0\n",
       "dtype: int64"
      ]
     },
     "execution_count": 267,
     "metadata": {},
     "output_type": "execute_result"
    }
   ],
   "source": [
    "#missing nos dados a serem previstos (restante da populacao)\n",
    "df_to_predict.isnull().sum()[31:]"
   ]
  },
  {
   "cell_type": "markdown",
   "id": "4a694664",
   "metadata": {},
   "source": [
    "Verificamos a existencia de dados missing que deverão ser tratados para utilizarmos essas variaveis no modelo preditivo a ser construido. \n",
    "\n",
    "Poderíamos optar pela exclusão desses dados em nosso dataset, porém isso significaria uma impossibilidade da predição das taxas de transmissao para boa parte do restante da populacao caso essas variaveis entrem no modelo preditivo.\n",
    "\n",
    "Para evitar essa perda será realizada a substituicao do dado missing pela moda no caso das variaveis binarias e pela media no caso das variaveis numericas."
   ]
  },
  {
   "cell_type": "markdown",
   "id": "2f8124b4",
   "metadata": {},
   "source": [
    "### Describe das variaveis numericas"
   ]
  },
  {
   "cell_type": "code",
   "execution_count": 268,
   "id": "d9363bb8",
   "metadata": {},
   "outputs": [
    {
     "data": {
      "text/html": [
       "<div>\n",
       "<style scoped>\n",
       "    .dataframe tbody tr th:only-of-type {\n",
       "        vertical-align: middle;\n",
       "    }\n",
       "\n",
       "    .dataframe tbody tr th {\n",
       "        vertical-align: top;\n",
       "    }\n",
       "\n",
       "    .dataframe thead th {\n",
       "        text-align: right;\n",
       "    }\n",
       "</style>\n",
       "<table border=\"1\" class=\"dataframe\">\n",
       "  <thead>\n",
       "    <tr style=\"text-align: right;\">\n",
       "      <th></th>\n",
       "      <th>V1</th>\n",
       "      <th>V2</th>\n",
       "      <th>prob_V1_V2</th>\n",
       "      <th>name_V1</th>\n",
       "      <th>idade_V1</th>\n",
       "      <th>qt_filhos_V1</th>\n",
       "      <th>estuda_V1</th>\n",
       "      <th>trabalha_V1</th>\n",
       "      <th>pratica_esportes_V1</th>\n",
       "      <th>IMC_V1</th>\n",
       "      <th>...</th>\n",
       "      <th>gp_nan</th>\n",
       "      <th>trasnporte_V2_particular</th>\n",
       "      <th>trasnporte_V2_publico</th>\n",
       "      <th>trasnporte_V2_taxi</th>\n",
       "      <th>trasnporte_V2_nan</th>\n",
       "      <th>estado_civil_V2_casado</th>\n",
       "      <th>estado_civil_V2_divorciado</th>\n",
       "      <th>estado_civil_V2_solteiro</th>\n",
       "      <th>estado_civil_V2_viuvo</th>\n",
       "      <th>estado_civil_V2_nan</th>\n",
       "    </tr>\n",
       "  </thead>\n",
       "  <tbody>\n",
       "    <tr>\n",
       "      <th>count</th>\n",
       "      <td>499999.000000</td>\n",
       "      <td>499999.000000</td>\n",
       "      <td>499999.000000</td>\n",
       "      <td>499999.000000</td>\n",
       "      <td>451702.000000</td>\n",
       "      <td>485471.000000</td>\n",
       "      <td>480017.000000</td>\n",
       "      <td>496855.000000</td>\n",
       "      <td>425255.000000</td>\n",
       "      <td>442861.000000</td>\n",
       "      <td>...</td>\n",
       "      <td>499999.0</td>\n",
       "      <td>499999.000000</td>\n",
       "      <td>499999.000000</td>\n",
       "      <td>499999.000000</td>\n",
       "      <td>499999.000000</td>\n",
       "      <td>499999.000000</td>\n",
       "      <td>499999.000000</td>\n",
       "      <td>499999.000000</td>\n",
       "      <td>499999.000000</td>\n",
       "      <td>499999.000000</td>\n",
       "    </tr>\n",
       "    <tr>\n",
       "      <th>mean</th>\n",
       "      <td>250175.688027</td>\n",
       "      <td>500351.875552</td>\n",
       "      <td>0.485162</td>\n",
       "      <td>250175.688027</td>\n",
       "      <td>29.994983</td>\n",
       "      <td>0.928393</td>\n",
       "      <td>0.442378</td>\n",
       "      <td>0.557066</td>\n",
       "      <td>0.600252</td>\n",
       "      <td>22.459896</td>\n",
       "      <td>...</td>\n",
       "      <td>0.0</td>\n",
       "      <td>0.333899</td>\n",
       "      <td>0.574759</td>\n",
       "      <td>0.048048</td>\n",
       "      <td>0.043294</td>\n",
       "      <td>0.265707</td>\n",
       "      <td>0.176230</td>\n",
       "      <td>0.419753</td>\n",
       "      <td>0.088084</td>\n",
       "      <td>0.050226</td>\n",
       "    </tr>\n",
       "    <tr>\n",
       "      <th>std</th>\n",
       "      <td>144356.951435</td>\n",
       "      <td>288713.902933</td>\n",
       "      <td>0.173963</td>\n",
       "      <td>144356.951435</td>\n",
       "      <td>10.954417</td>\n",
       "      <td>0.997519</td>\n",
       "      <td>0.496669</td>\n",
       "      <td>0.496733</td>\n",
       "      <td>0.489847</td>\n",
       "      <td>7.081074</td>\n",
       "      <td>...</td>\n",
       "      <td>0.0</td>\n",
       "      <td>0.471604</td>\n",
       "      <td>0.494380</td>\n",
       "      <td>0.213868</td>\n",
       "      <td>0.203519</td>\n",
       "      <td>0.441709</td>\n",
       "      <td>0.381016</td>\n",
       "      <td>0.493519</td>\n",
       "      <td>0.283418</td>\n",
       "      <td>0.218411</td>\n",
       "    </tr>\n",
       "    <tr>\n",
       "      <th>min</th>\n",
       "      <td>1.000000</td>\n",
       "      <td>2.000000</td>\n",
       "      <td>0.074462</td>\n",
       "      <td>1.000000</td>\n",
       "      <td>0.000000</td>\n",
       "      <td>0.000000</td>\n",
       "      <td>0.000000</td>\n",
       "      <td>0.000000</td>\n",
       "      <td>0.000000</td>\n",
       "      <td>5.376728</td>\n",
       "      <td>...</td>\n",
       "      <td>0.0</td>\n",
       "      <td>0.000000</td>\n",
       "      <td>0.000000</td>\n",
       "      <td>0.000000</td>\n",
       "      <td>0.000000</td>\n",
       "      <td>0.000000</td>\n",
       "      <td>0.000000</td>\n",
       "      <td>0.000000</td>\n",
       "      <td>0.000000</td>\n",
       "      <td>0.000000</td>\n",
       "    </tr>\n",
       "    <tr>\n",
       "      <th>25%</th>\n",
       "      <td>125064.000000</td>\n",
       "      <td>250128.000000</td>\n",
       "      <td>0.351677</td>\n",
       "      <td>125064.000000</td>\n",
       "      <td>22.000000</td>\n",
       "      <td>0.000000</td>\n",
       "      <td>0.000000</td>\n",
       "      <td>0.000000</td>\n",
       "      <td>0.000000</td>\n",
       "      <td>17.416296</td>\n",
       "      <td>...</td>\n",
       "      <td>0.0</td>\n",
       "      <td>0.000000</td>\n",
       "      <td>0.000000</td>\n",
       "      <td>0.000000</td>\n",
       "      <td>0.000000</td>\n",
       "      <td>0.000000</td>\n",
       "      <td>0.000000</td>\n",
       "      <td>0.000000</td>\n",
       "      <td>0.000000</td>\n",
       "      <td>0.000000</td>\n",
       "    </tr>\n",
       "    <tr>\n",
       "      <th>50%</th>\n",
       "      <td>250466.000000</td>\n",
       "      <td>500932.000000</td>\n",
       "      <td>0.486413</td>\n",
       "      <td>250466.000000</td>\n",
       "      <td>29.000000</td>\n",
       "      <td>1.000000</td>\n",
       "      <td>0.000000</td>\n",
       "      <td>1.000000</td>\n",
       "      <td>1.000000</td>\n",
       "      <td>21.418552</td>\n",
       "      <td>...</td>\n",
       "      <td>0.0</td>\n",
       "      <td>0.000000</td>\n",
       "      <td>1.000000</td>\n",
       "      <td>0.000000</td>\n",
       "      <td>0.000000</td>\n",
       "      <td>0.000000</td>\n",
       "      <td>0.000000</td>\n",
       "      <td>0.000000</td>\n",
       "      <td>0.000000</td>\n",
       "      <td>0.000000</td>\n",
       "    </tr>\n",
       "    <tr>\n",
       "      <th>75%</th>\n",
       "      <td>375183.500000</td>\n",
       "      <td>750368.000000</td>\n",
       "      <td>0.618210</td>\n",
       "      <td>375183.500000</td>\n",
       "      <td>37.000000</td>\n",
       "      <td>1.000000</td>\n",
       "      <td>1.000000</td>\n",
       "      <td>1.000000</td>\n",
       "      <td>1.000000</td>\n",
       "      <td>26.358214</td>\n",
       "      <td>...</td>\n",
       "      <td>0.0</td>\n",
       "      <td>1.000000</td>\n",
       "      <td>1.000000</td>\n",
       "      <td>0.000000</td>\n",
       "      <td>0.000000</td>\n",
       "      <td>1.000000</td>\n",
       "      <td>0.000000</td>\n",
       "      <td>1.000000</td>\n",
       "      <td>0.000000</td>\n",
       "      <td>0.000000</td>\n",
       "    </tr>\n",
       "    <tr>\n",
       "      <th>max</th>\n",
       "      <td>499999.000000</td>\n",
       "      <td>999999.000000</td>\n",
       "      <td>0.942245</td>\n",
       "      <td>499999.000000</td>\n",
       "      <td>111.000000</td>\n",
       "      <td>8.000000</td>\n",
       "      <td>1.000000</td>\n",
       "      <td>1.000000</td>\n",
       "      <td>1.000000</td>\n",
       "      <td>89.158204</td>\n",
       "      <td>...</td>\n",
       "      <td>0.0</td>\n",
       "      <td>1.000000</td>\n",
       "      <td>1.000000</td>\n",
       "      <td>1.000000</td>\n",
       "      <td>1.000000</td>\n",
       "      <td>1.000000</td>\n",
       "      <td>1.000000</td>\n",
       "      <td>1.000000</td>\n",
       "      <td>1.000000</td>\n",
       "      <td>1.000000</td>\n",
       "    </tr>\n",
       "  </tbody>\n",
       "</table>\n",
       "<p>8 rows × 57 columns</p>\n",
       "</div>"
      ],
      "text/plain": [
       "                  V1             V2     prob_V1_V2        name_V1  \\\n",
       "count  499999.000000  499999.000000  499999.000000  499999.000000   \n",
       "mean   250175.688027  500351.875552       0.485162  250175.688027   \n",
       "std    144356.951435  288713.902933       0.173963  144356.951435   \n",
       "min         1.000000       2.000000       0.074462       1.000000   \n",
       "25%    125064.000000  250128.000000       0.351677  125064.000000   \n",
       "50%    250466.000000  500932.000000       0.486413  250466.000000   \n",
       "75%    375183.500000  750368.000000       0.618210  375183.500000   \n",
       "max    499999.000000  999999.000000       0.942245  499999.000000   \n",
       "\n",
       "            idade_V1   qt_filhos_V1      estuda_V1    trabalha_V1  \\\n",
       "count  451702.000000  485471.000000  480017.000000  496855.000000   \n",
       "mean       29.994983       0.928393       0.442378       0.557066   \n",
       "std        10.954417       0.997519       0.496669       0.496733   \n",
       "min         0.000000       0.000000       0.000000       0.000000   \n",
       "25%        22.000000       0.000000       0.000000       0.000000   \n",
       "50%        29.000000       1.000000       0.000000       1.000000   \n",
       "75%        37.000000       1.000000       1.000000       1.000000   \n",
       "max       111.000000       8.000000       1.000000       1.000000   \n",
       "\n",
       "       pratica_esportes_V1         IMC_V1  ...    gp_nan  \\\n",
       "count        425255.000000  442861.000000  ...  499999.0   \n",
       "mean              0.600252      22.459896  ...       0.0   \n",
       "std               0.489847       7.081074  ...       0.0   \n",
       "min               0.000000       5.376728  ...       0.0   \n",
       "25%               0.000000      17.416296  ...       0.0   \n",
       "50%               1.000000      21.418552  ...       0.0   \n",
       "75%               1.000000      26.358214  ...       0.0   \n",
       "max               1.000000      89.158204  ...       0.0   \n",
       "\n",
       "       trasnporte_V2_particular  trasnporte_V2_publico  trasnporte_V2_taxi  \\\n",
       "count             499999.000000          499999.000000       499999.000000   \n",
       "mean                   0.333899               0.574759            0.048048   \n",
       "std                    0.471604               0.494380            0.213868   \n",
       "min                    0.000000               0.000000            0.000000   \n",
       "25%                    0.000000               0.000000            0.000000   \n",
       "50%                    0.000000               1.000000            0.000000   \n",
       "75%                    1.000000               1.000000            0.000000   \n",
       "max                    1.000000               1.000000            1.000000   \n",
       "\n",
       "       trasnporte_V2_nan  estado_civil_V2_casado  estado_civil_V2_divorciado  \\\n",
       "count      499999.000000           499999.000000               499999.000000   \n",
       "mean            0.043294                0.265707                    0.176230   \n",
       "std             0.203519                0.441709                    0.381016   \n",
       "min             0.000000                0.000000                    0.000000   \n",
       "25%             0.000000                0.000000                    0.000000   \n",
       "50%             0.000000                0.000000                    0.000000   \n",
       "75%             0.000000                1.000000                    0.000000   \n",
       "max             1.000000                1.000000                    1.000000   \n",
       "\n",
       "       estado_civil_V2_solteiro  estado_civil_V2_viuvo  estado_civil_V2_nan  \n",
       "count             499999.000000          499999.000000        499999.000000  \n",
       "mean                   0.419753               0.088084             0.050226  \n",
       "std                    0.493519               0.283418             0.218411  \n",
       "min                    0.000000               0.000000             0.000000  \n",
       "25%                    0.000000               0.000000             0.000000  \n",
       "50%                    0.000000               0.000000             0.000000  \n",
       "75%                    1.000000               0.000000             0.000000  \n",
       "max                    1.000000               1.000000             1.000000  \n",
       "\n",
       "[8 rows x 57 columns]"
      ]
     },
     "execution_count": 268,
     "metadata": {},
     "output_type": "execute_result"
    }
   ],
   "source": [
    "#descbrie das variaveis numericas\n",
    "df_populacao.describe()"
   ]
  },
  {
   "cell_type": "code",
   "execution_count": 269,
   "id": "260cab56",
   "metadata": {},
   "outputs": [
    {
     "data": {
      "text/html": [
       "<div>\n",
       "<style scoped>\n",
       "    .dataframe tbody tr th:only-of-type {\n",
       "        vertical-align: middle;\n",
       "    }\n",
       "\n",
       "    .dataframe tbody tr th {\n",
       "        vertical-align: top;\n",
       "    }\n",
       "\n",
       "    .dataframe thead th {\n",
       "        text-align: right;\n",
       "    }\n",
       "</style>\n",
       "<table border=\"1\" class=\"dataframe\">\n",
       "  <thead>\n",
       "    <tr style=\"text-align: right;\">\n",
       "      <th></th>\n",
       "      <th>V1</th>\n",
       "      <th>V2</th>\n",
       "      <th>prob_V1_V2</th>\n",
       "      <th>name_V1</th>\n",
       "      <th>idade_V1</th>\n",
       "      <th>qt_filhos_V1</th>\n",
       "      <th>estuda_V1</th>\n",
       "      <th>trabalha_V1</th>\n",
       "      <th>pratica_esportes_V1</th>\n",
       "      <th>IMC_V1</th>\n",
       "      <th>...</th>\n",
       "      <th>gp_nan</th>\n",
       "      <th>trasnporte_V2_particular</th>\n",
       "      <th>trasnporte_V2_publico</th>\n",
       "      <th>trasnporte_V2_taxi</th>\n",
       "      <th>trasnporte_V2_nan</th>\n",
       "      <th>estado_civil_V2_casado</th>\n",
       "      <th>estado_civil_V2_divorciado</th>\n",
       "      <th>estado_civil_V2_solteiro</th>\n",
       "      <th>estado_civil_V2_viuvo</th>\n",
       "      <th>estado_civil_V2_nan</th>\n",
       "    </tr>\n",
       "  </thead>\n",
       "  <tbody>\n",
       "    <tr>\n",
       "      <th>count</th>\n",
       "      <td>500000.000000</td>\n",
       "      <td>500000.000000</td>\n",
       "      <td>0.0</td>\n",
       "      <td>500000.000000</td>\n",
       "      <td>452203.000000</td>\n",
       "      <td>485388.000000</td>\n",
       "      <td>479892.000000</td>\n",
       "      <td>496720.000000</td>\n",
       "      <td>425378.000000</td>\n",
       "      <td>443042.000000</td>\n",
       "      <td>...</td>\n",
       "      <td>500000.0</td>\n",
       "      <td>500000.000000</td>\n",
       "      <td>500000.000000</td>\n",
       "      <td>500000.000000</td>\n",
       "      <td>500000.000000</td>\n",
       "      <td>500000.000000</td>\n",
       "      <td>500000.000000</td>\n",
       "      <td>500000.000000</td>\n",
       "      <td>500000.000000</td>\n",
       "      <td>500000.00000</td>\n",
       "    </tr>\n",
       "    <tr>\n",
       "      <th>mean</th>\n",
       "      <td>249824.812324</td>\n",
       "      <td>499650.125150</td>\n",
       "      <td>NaN</td>\n",
       "      <td>249824.812324</td>\n",
       "      <td>30.025427</td>\n",
       "      <td>0.928927</td>\n",
       "      <td>0.443437</td>\n",
       "      <td>0.556162</td>\n",
       "      <td>0.599728</td>\n",
       "      <td>22.465314</td>\n",
       "      <td>...</td>\n",
       "      <td>0.0</td>\n",
       "      <td>0.334278</td>\n",
       "      <td>0.574798</td>\n",
       "      <td>0.048152</td>\n",
       "      <td>0.042772</td>\n",
       "      <td>0.264354</td>\n",
       "      <td>0.175876</td>\n",
       "      <td>0.421522</td>\n",
       "      <td>0.088328</td>\n",
       "      <td>0.04992</td>\n",
       "    </tr>\n",
       "    <tr>\n",
       "      <th>std</th>\n",
       "      <td>144317.967328</td>\n",
       "      <td>288635.934592</td>\n",
       "      <td>NaN</td>\n",
       "      <td>144317.967328</td>\n",
       "      <td>10.957007</td>\n",
       "      <td>0.997150</td>\n",
       "      <td>0.496791</td>\n",
       "      <td>0.496836</td>\n",
       "      <td>0.489954</td>\n",
       "      <td>7.073234</td>\n",
       "      <td>...</td>\n",
       "      <td>0.0</td>\n",
       "      <td>0.471738</td>\n",
       "      <td>0.494374</td>\n",
       "      <td>0.214088</td>\n",
       "      <td>0.202343</td>\n",
       "      <td>0.440989</td>\n",
       "      <td>0.380715</td>\n",
       "      <td>0.493803</td>\n",
       "      <td>0.283772</td>\n",
       "      <td>0.21778</td>\n",
       "    </tr>\n",
       "    <tr>\n",
       "      <th>min</th>\n",
       "      <td>2.000000</td>\n",
       "      <td>4.000000</td>\n",
       "      <td>NaN</td>\n",
       "      <td>2.000000</td>\n",
       "      <td>0.000000</td>\n",
       "      <td>0.000000</td>\n",
       "      <td>0.000000</td>\n",
       "      <td>0.000000</td>\n",
       "      <td>0.000000</td>\n",
       "      <td>5.376728</td>\n",
       "      <td>...</td>\n",
       "      <td>0.0</td>\n",
       "      <td>0.000000</td>\n",
       "      <td>0.000000</td>\n",
       "      <td>0.000000</td>\n",
       "      <td>0.000000</td>\n",
       "      <td>0.000000</td>\n",
       "      <td>0.000000</td>\n",
       "      <td>0.000000</td>\n",
       "      <td>0.000000</td>\n",
       "      <td>0.00000</td>\n",
       "    </tr>\n",
       "    <tr>\n",
       "      <th>25%</th>\n",
       "      <td>124949.750000</td>\n",
       "      <td>249899.750000</td>\n",
       "      <td>NaN</td>\n",
       "      <td>124949.750000</td>\n",
       "      <td>22.000000</td>\n",
       "      <td>0.000000</td>\n",
       "      <td>0.000000</td>\n",
       "      <td>0.000000</td>\n",
       "      <td>0.000000</td>\n",
       "      <td>17.411286</td>\n",
       "      <td>...</td>\n",
       "      <td>0.0</td>\n",
       "      <td>0.000000</td>\n",
       "      <td>0.000000</td>\n",
       "      <td>0.000000</td>\n",
       "      <td>0.000000</td>\n",
       "      <td>0.000000</td>\n",
       "      <td>0.000000</td>\n",
       "      <td>0.000000</td>\n",
       "      <td>0.000000</td>\n",
       "      <td>0.00000</td>\n",
       "    </tr>\n",
       "    <tr>\n",
       "      <th>50%</th>\n",
       "      <td>249556.500000</td>\n",
       "      <td>499113.500000</td>\n",
       "      <td>NaN</td>\n",
       "      <td>249556.500000</td>\n",
       "      <td>29.000000</td>\n",
       "      <td>1.000000</td>\n",
       "      <td>0.000000</td>\n",
       "      <td>1.000000</td>\n",
       "      <td>1.000000</td>\n",
       "      <td>21.414840</td>\n",
       "      <td>...</td>\n",
       "      <td>0.0</td>\n",
       "      <td>0.000000</td>\n",
       "      <td>1.000000</td>\n",
       "      <td>0.000000</td>\n",
       "      <td>0.000000</td>\n",
       "      <td>0.000000</td>\n",
       "      <td>0.000000</td>\n",
       "      <td>0.000000</td>\n",
       "      <td>0.000000</td>\n",
       "      <td>0.00000</td>\n",
       "    </tr>\n",
       "    <tr>\n",
       "      <th>75%</th>\n",
       "      <td>374810.000000</td>\n",
       "      <td>749620.250000</td>\n",
       "      <td>NaN</td>\n",
       "      <td>374810.000000</td>\n",
       "      <td>37.000000</td>\n",
       "      <td>1.000000</td>\n",
       "      <td>1.000000</td>\n",
       "      <td>1.000000</td>\n",
       "      <td>1.000000</td>\n",
       "      <td>26.381444</td>\n",
       "      <td>...</td>\n",
       "      <td>0.0</td>\n",
       "      <td>1.000000</td>\n",
       "      <td>1.000000</td>\n",
       "      <td>0.000000</td>\n",
       "      <td>0.000000</td>\n",
       "      <td>1.000000</td>\n",
       "      <td>0.000000</td>\n",
       "      <td>1.000000</td>\n",
       "      <td>0.000000</td>\n",
       "      <td>0.00000</td>\n",
       "    </tr>\n",
       "    <tr>\n",
       "      <th>max</th>\n",
       "      <td>500000.000000</td>\n",
       "      <td>1000000.000000</td>\n",
       "      <td>NaN</td>\n",
       "      <td>500000.000000</td>\n",
       "      <td>111.000000</td>\n",
       "      <td>8.000000</td>\n",
       "      <td>1.000000</td>\n",
       "      <td>1.000000</td>\n",
       "      <td>1.000000</td>\n",
       "      <td>84.681985</td>\n",
       "      <td>...</td>\n",
       "      <td>0.0</td>\n",
       "      <td>1.000000</td>\n",
       "      <td>1.000000</td>\n",
       "      <td>1.000000</td>\n",
       "      <td>1.000000</td>\n",
       "      <td>1.000000</td>\n",
       "      <td>1.000000</td>\n",
       "      <td>1.000000</td>\n",
       "      <td>1.000000</td>\n",
       "      <td>1.00000</td>\n",
       "    </tr>\n",
       "  </tbody>\n",
       "</table>\n",
       "<p>8 rows × 57 columns</p>\n",
       "</div>"
      ],
      "text/plain": [
       "                  V1              V2  prob_V1_V2        name_V1  \\\n",
       "count  500000.000000   500000.000000         0.0  500000.000000   \n",
       "mean   249824.812324   499650.125150         NaN  249824.812324   \n",
       "std    144317.967328   288635.934592         NaN  144317.967328   \n",
       "min         2.000000        4.000000         NaN       2.000000   \n",
       "25%    124949.750000   249899.750000         NaN  124949.750000   \n",
       "50%    249556.500000   499113.500000         NaN  249556.500000   \n",
       "75%    374810.000000   749620.250000         NaN  374810.000000   \n",
       "max    500000.000000  1000000.000000         NaN  500000.000000   \n",
       "\n",
       "            idade_V1   qt_filhos_V1      estuda_V1    trabalha_V1  \\\n",
       "count  452203.000000  485388.000000  479892.000000  496720.000000   \n",
       "mean       30.025427       0.928927       0.443437       0.556162   \n",
       "std        10.957007       0.997150       0.496791       0.496836   \n",
       "min         0.000000       0.000000       0.000000       0.000000   \n",
       "25%        22.000000       0.000000       0.000000       0.000000   \n",
       "50%        29.000000       1.000000       0.000000       1.000000   \n",
       "75%        37.000000       1.000000       1.000000       1.000000   \n",
       "max       111.000000       8.000000       1.000000       1.000000   \n",
       "\n",
       "       pratica_esportes_V1         IMC_V1  ...    gp_nan  \\\n",
       "count        425378.000000  443042.000000  ...  500000.0   \n",
       "mean              0.599728      22.465314  ...       0.0   \n",
       "std               0.489954       7.073234  ...       0.0   \n",
       "min               0.000000       5.376728  ...       0.0   \n",
       "25%               0.000000      17.411286  ...       0.0   \n",
       "50%               1.000000      21.414840  ...       0.0   \n",
       "75%               1.000000      26.381444  ...       0.0   \n",
       "max               1.000000      84.681985  ...       0.0   \n",
       "\n",
       "       trasnporte_V2_particular  trasnporte_V2_publico  trasnporte_V2_taxi  \\\n",
       "count             500000.000000          500000.000000       500000.000000   \n",
       "mean                   0.334278               0.574798            0.048152   \n",
       "std                    0.471738               0.494374            0.214088   \n",
       "min                    0.000000               0.000000            0.000000   \n",
       "25%                    0.000000               0.000000            0.000000   \n",
       "50%                    0.000000               1.000000            0.000000   \n",
       "75%                    1.000000               1.000000            0.000000   \n",
       "max                    1.000000               1.000000            1.000000   \n",
       "\n",
       "       trasnporte_V2_nan  estado_civil_V2_casado  estado_civil_V2_divorciado  \\\n",
       "count      500000.000000           500000.000000               500000.000000   \n",
       "mean            0.042772                0.264354                    0.175876   \n",
       "std             0.202343                0.440989                    0.380715   \n",
       "min             0.000000                0.000000                    0.000000   \n",
       "25%             0.000000                0.000000                    0.000000   \n",
       "50%             0.000000                0.000000                    0.000000   \n",
       "75%             0.000000                1.000000                    0.000000   \n",
       "max             1.000000                1.000000                    1.000000   \n",
       "\n",
       "       estado_civil_V2_solteiro  estado_civil_V2_viuvo  estado_civil_V2_nan  \n",
       "count             500000.000000          500000.000000         500000.00000  \n",
       "mean                   0.421522               0.088328              0.04992  \n",
       "std                    0.493803               0.283772              0.21778  \n",
       "min                    0.000000               0.000000              0.00000  \n",
       "25%                    0.000000               0.000000              0.00000  \n",
       "50%                    0.000000               0.000000              0.00000  \n",
       "75%                    1.000000               0.000000              0.00000  \n",
       "max                    1.000000               1.000000              1.00000  \n",
       "\n",
       "[8 rows x 57 columns]"
      ]
     },
     "execution_count": 269,
     "metadata": {},
     "output_type": "execute_result"
    }
   ],
   "source": [
    "df_to_predict.describe()"
   ]
  },
  {
   "cell_type": "code",
   "execution_count": 270,
   "id": "4a26ffa9",
   "metadata": {},
   "outputs": [
    {
     "data": {
      "text/html": [
       "<div>\n",
       "<style scoped>\n",
       "    .dataframe tbody tr th:only-of-type {\n",
       "        vertical-align: middle;\n",
       "    }\n",
       "\n",
       "    .dataframe tbody tr th {\n",
       "        vertical-align: top;\n",
       "    }\n",
       "\n",
       "    .dataframe thead th {\n",
       "        text-align: right;\n",
       "    }\n",
       "</style>\n",
       "<table border=\"1\" class=\"dataframe\">\n",
       "  <thead>\n",
       "    <tr style=\"text-align: right;\">\n",
       "      <th></th>\n",
       "      <th>V1</th>\n",
       "      <th>V2</th>\n",
       "      <th>prob_V1_V2</th>\n",
       "      <th>name_V1</th>\n",
       "      <th>idade_V1</th>\n",
       "      <th>qt_filhos_V1</th>\n",
       "      <th>estuda_V1</th>\n",
       "      <th>trabalha_V1</th>\n",
       "      <th>pratica_esportes_V1</th>\n",
       "      <th>IMC_V1</th>\n",
       "      <th>...</th>\n",
       "      <th>gp_nan</th>\n",
       "      <th>trasnporte_V2_particular</th>\n",
       "      <th>trasnporte_V2_publico</th>\n",
       "      <th>trasnporte_V2_taxi</th>\n",
       "      <th>trasnporte_V2_nan</th>\n",
       "      <th>estado_civil_V2_casado</th>\n",
       "      <th>estado_civil_V2_divorciado</th>\n",
       "      <th>estado_civil_V2_solteiro</th>\n",
       "      <th>estado_civil_V2_viuvo</th>\n",
       "      <th>estado_civil_V2_nan</th>\n",
       "    </tr>\n",
       "  </thead>\n",
       "  <tbody>\n",
       "    <tr>\n",
       "      <th>count</th>\n",
       "      <td>255260.000000</td>\n",
       "      <td>255260.000000</td>\n",
       "      <td>255260.000000</td>\n",
       "      <td>255260.000000</td>\n",
       "      <td>230501.000000</td>\n",
       "      <td>247751.000000</td>\n",
       "      <td>244965.000000</td>\n",
       "      <td>253641.000000</td>\n",
       "      <td>255260.0</td>\n",
       "      <td>225863.000000</td>\n",
       "      <td>...</td>\n",
       "      <td>255260.0</td>\n",
       "      <td>255260.000000</td>\n",
       "      <td>255260.000000</td>\n",
       "      <td>255260.000000</td>\n",
       "      <td>255260.000000</td>\n",
       "      <td>255260.000000</td>\n",
       "      <td>255260.000000</td>\n",
       "      <td>255260.000000</td>\n",
       "      <td>255260.000000</td>\n",
       "      <td>255260.000000</td>\n",
       "    </tr>\n",
       "    <tr>\n",
       "      <th>mean</th>\n",
       "      <td>250144.366266</td>\n",
       "      <td>500289.232273</td>\n",
       "      <td>0.534798</td>\n",
       "      <td>250144.366266</td>\n",
       "      <td>30.009301</td>\n",
       "      <td>0.929034</td>\n",
       "      <td>0.441843</td>\n",
       "      <td>0.558364</td>\n",
       "      <td>1.0</td>\n",
       "      <td>22.459838</td>\n",
       "      <td>...</td>\n",
       "      <td>0.0</td>\n",
       "      <td>0.334819</td>\n",
       "      <td>0.573165</td>\n",
       "      <td>0.048308</td>\n",
       "      <td>0.043708</td>\n",
       "      <td>0.265126</td>\n",
       "      <td>0.176232</td>\n",
       "      <td>0.419862</td>\n",
       "      <td>0.088337</td>\n",
       "      <td>0.050443</td>\n",
       "    </tr>\n",
       "    <tr>\n",
       "      <th>std</th>\n",
       "      <td>144484.827223</td>\n",
       "      <td>288969.654655</td>\n",
       "      <td>0.164574</td>\n",
       "      <td>144484.827223</td>\n",
       "      <td>10.956142</td>\n",
       "      <td>0.998773</td>\n",
       "      <td>0.496607</td>\n",
       "      <td>0.496583</td>\n",
       "      <td>0.0</td>\n",
       "      <td>7.077839</td>\n",
       "      <td>...</td>\n",
       "      <td>0.0</td>\n",
       "      <td>0.471928</td>\n",
       "      <td>0.494619</td>\n",
       "      <td>0.214416</td>\n",
       "      <td>0.204446</td>\n",
       "      <td>0.441401</td>\n",
       "      <td>0.381018</td>\n",
       "      <td>0.493537</td>\n",
       "      <td>0.283785</td>\n",
       "      <td>0.218857</td>\n",
       "    </tr>\n",
       "    <tr>\n",
       "      <th>min</th>\n",
       "      <td>1.000000</td>\n",
       "      <td>2.000000</td>\n",
       "      <td>0.121415</td>\n",
       "      <td>1.000000</td>\n",
       "      <td>0.000000</td>\n",
       "      <td>0.000000</td>\n",
       "      <td>0.000000</td>\n",
       "      <td>0.000000</td>\n",
       "      <td>1.0</td>\n",
       "      <td>5.710526</td>\n",
       "      <td>...</td>\n",
       "      <td>0.0</td>\n",
       "      <td>0.000000</td>\n",
       "      <td>0.000000</td>\n",
       "      <td>0.000000</td>\n",
       "      <td>0.000000</td>\n",
       "      <td>0.000000</td>\n",
       "      <td>0.000000</td>\n",
       "      <td>0.000000</td>\n",
       "      <td>0.000000</td>\n",
       "      <td>0.000000</td>\n",
       "    </tr>\n",
       "    <tr>\n",
       "      <th>25%</th>\n",
       "      <td>124835.500000</td>\n",
       "      <td>249671.750000</td>\n",
       "      <td>0.415466</td>\n",
       "      <td>124835.500000</td>\n",
       "      <td>22.000000</td>\n",
       "      <td>0.000000</td>\n",
       "      <td>0.000000</td>\n",
       "      <td>0.000000</td>\n",
       "      <td>1.0</td>\n",
       "      <td>17.434783</td>\n",
       "      <td>...</td>\n",
       "      <td>0.0</td>\n",
       "      <td>0.000000</td>\n",
       "      <td>0.000000</td>\n",
       "      <td>0.000000</td>\n",
       "      <td>0.000000</td>\n",
       "      <td>0.000000</td>\n",
       "      <td>0.000000</td>\n",
       "      <td>0.000000</td>\n",
       "      <td>0.000000</td>\n",
       "      <td>0.000000</td>\n",
       "    </tr>\n",
       "    <tr>\n",
       "      <th>50%</th>\n",
       "      <td>250357.500000</td>\n",
       "      <td>500715.500000</td>\n",
       "      <td>0.538759</td>\n",
       "      <td>250357.500000</td>\n",
       "      <td>29.000000</td>\n",
       "      <td>1.000000</td>\n",
       "      <td>0.000000</td>\n",
       "      <td>1.000000</td>\n",
       "      <td>1.0</td>\n",
       "      <td>21.417416</td>\n",
       "      <td>...</td>\n",
       "      <td>0.0</td>\n",
       "      <td>0.000000</td>\n",
       "      <td>1.000000</td>\n",
       "      <td>0.000000</td>\n",
       "      <td>0.000000</td>\n",
       "      <td>0.000000</td>\n",
       "      <td>0.000000</td>\n",
       "      <td>0.000000</td>\n",
       "      <td>0.000000</td>\n",
       "      <td>0.000000</td>\n",
       "    </tr>\n",
       "    <tr>\n",
       "      <th>75%</th>\n",
       "      <td>374964.750000</td>\n",
       "      <td>749930.250000</td>\n",
       "      <td>0.661121</td>\n",
       "      <td>374964.750000</td>\n",
       "      <td>37.000000</td>\n",
       "      <td>1.000000</td>\n",
       "      <td>1.000000</td>\n",
       "      <td>1.000000</td>\n",
       "      <td>1.0</td>\n",
       "      <td>26.335078</td>\n",
       "      <td>...</td>\n",
       "      <td>0.0</td>\n",
       "      <td>1.000000</td>\n",
       "      <td>1.000000</td>\n",
       "      <td>0.000000</td>\n",
       "      <td>0.000000</td>\n",
       "      <td>1.000000</td>\n",
       "      <td>0.000000</td>\n",
       "      <td>1.000000</td>\n",
       "      <td>0.000000</td>\n",
       "      <td>0.000000</td>\n",
       "    </tr>\n",
       "    <tr>\n",
       "      <th>max</th>\n",
       "      <td>499993.000000</td>\n",
       "      <td>999987.000000</td>\n",
       "      <td>0.942245</td>\n",
       "      <td>499993.000000</td>\n",
       "      <td>110.000000</td>\n",
       "      <td>8.000000</td>\n",
       "      <td>1.000000</td>\n",
       "      <td>1.000000</td>\n",
       "      <td>1.0</td>\n",
       "      <td>80.099185</td>\n",
       "      <td>...</td>\n",
       "      <td>0.0</td>\n",
       "      <td>1.000000</td>\n",
       "      <td>1.000000</td>\n",
       "      <td>1.000000</td>\n",
       "      <td>1.000000</td>\n",
       "      <td>1.000000</td>\n",
       "      <td>1.000000</td>\n",
       "      <td>1.000000</td>\n",
       "      <td>1.000000</td>\n",
       "      <td>1.000000</td>\n",
       "    </tr>\n",
       "  </tbody>\n",
       "</table>\n",
       "<p>8 rows × 57 columns</p>\n",
       "</div>"
      ],
      "text/plain": [
       "                  V1             V2     prob_V1_V2        name_V1  \\\n",
       "count  255260.000000  255260.000000  255260.000000  255260.000000   \n",
       "mean   250144.366266  500289.232273       0.534798  250144.366266   \n",
       "std    144484.827223  288969.654655       0.164574  144484.827223   \n",
       "min         1.000000       2.000000       0.121415       1.000000   \n",
       "25%    124835.500000  249671.750000       0.415466  124835.500000   \n",
       "50%    250357.500000  500715.500000       0.538759  250357.500000   \n",
       "75%    374964.750000  749930.250000       0.661121  374964.750000   \n",
       "max    499993.000000  999987.000000       0.942245  499993.000000   \n",
       "\n",
       "            idade_V1   qt_filhos_V1      estuda_V1    trabalha_V1  \\\n",
       "count  230501.000000  247751.000000  244965.000000  253641.000000   \n",
       "mean       30.009301       0.929034       0.441843       0.558364   \n",
       "std        10.956142       0.998773       0.496607       0.496583   \n",
       "min         0.000000       0.000000       0.000000       0.000000   \n",
       "25%        22.000000       0.000000       0.000000       0.000000   \n",
       "50%        29.000000       1.000000       0.000000       1.000000   \n",
       "75%        37.000000       1.000000       1.000000       1.000000   \n",
       "max       110.000000       8.000000       1.000000       1.000000   \n",
       "\n",
       "       pratica_esportes_V1         IMC_V1  ...    gp_nan  \\\n",
       "count             255260.0  225863.000000  ...  255260.0   \n",
       "mean                   1.0      22.459838  ...       0.0   \n",
       "std                    0.0       7.077839  ...       0.0   \n",
       "min                    1.0       5.710526  ...       0.0   \n",
       "25%                    1.0      17.434783  ...       0.0   \n",
       "50%                    1.0      21.417416  ...       0.0   \n",
       "75%                    1.0      26.335078  ...       0.0   \n",
       "max                    1.0      80.099185  ...       0.0   \n",
       "\n",
       "       trasnporte_V2_particular  trasnporte_V2_publico  trasnporte_V2_taxi  \\\n",
       "count             255260.000000          255260.000000       255260.000000   \n",
       "mean                   0.334819               0.573165            0.048308   \n",
       "std                    0.471928               0.494619            0.214416   \n",
       "min                    0.000000               0.000000            0.000000   \n",
       "25%                    0.000000               0.000000            0.000000   \n",
       "50%                    0.000000               1.000000            0.000000   \n",
       "75%                    1.000000               1.000000            0.000000   \n",
       "max                    1.000000               1.000000            1.000000   \n",
       "\n",
       "       trasnporte_V2_nan  estado_civil_V2_casado  estado_civil_V2_divorciado  \\\n",
       "count      255260.000000           255260.000000               255260.000000   \n",
       "mean            0.043708                0.265126                    0.176232   \n",
       "std             0.204446                0.441401                    0.381018   \n",
       "min             0.000000                0.000000                    0.000000   \n",
       "25%             0.000000                0.000000                    0.000000   \n",
       "50%             0.000000                0.000000                    0.000000   \n",
       "75%             0.000000                1.000000                    0.000000   \n",
       "max             1.000000                1.000000                    1.000000   \n",
       "\n",
       "       estado_civil_V2_solteiro  estado_civil_V2_viuvo  estado_civil_V2_nan  \n",
       "count             255260.000000          255260.000000        255260.000000  \n",
       "mean                   0.419862               0.088337             0.050443  \n",
       "std                    0.493537               0.283785             0.218857  \n",
       "min                    0.000000               0.000000             0.000000  \n",
       "25%                    0.000000               0.000000             0.000000  \n",
       "50%                    0.000000               0.000000             0.000000  \n",
       "75%                    1.000000               0.000000             0.000000  \n",
       "max                    1.000000               1.000000             1.000000  \n",
       "\n",
       "[8 rows x 57 columns]"
      ]
     },
     "execution_count": 270,
     "metadata": {},
     "output_type": "execute_result"
    }
   ],
   "source": [
    "#describe de quem pratica esporte\n",
    "df_populacao[df_populacao['pratica_esportes_V1']==1].describe()"
   ]
  },
  {
   "cell_type": "code",
   "execution_count": 271,
   "id": "5f48614e",
   "metadata": {},
   "outputs": [],
   "source": [
    "#taxa media de contaminacao pro grau de relacionamento\n",
    "df_grau_grupo = df_populacao.groupby('grau').agg({'prob_V1_V2' : 'mean'}).reset_index().rename(\n",
    "    columns = {'prob_V1_V2' : 'Media_Tx_Contaminacao'})"
   ]
  },
  {
   "cell_type": "code",
   "execution_count": 272,
   "id": "8798ccde",
   "metadata": {},
   "outputs": [
    {
     "data": {
      "image/png": "[encoded data removed]",
      "text/plain": [
       "<Figure size 432x288 with 1 Axes>"
      ]
     },
     "metadata": {
      "needs_background": "light"
     },
     "output_type": "display_data"
    }
   ],
   "source": [
    "pal = sns.color_palette(\"Blues_d\", len(df_grau_grupo))\n",
    "rank = df_grau_grupo[\"Media_Tx_Contaminacao\"].argsort().argsort() \n",
    "g=sns.barplot(x='grau',y='Media_Tx_Contaminacao',data=df_grau_grupo, palette=np.array(pal[::-1])[rank])\n",
    "\n",
    "for index, row in df_grau_grupo.iterrows():\n",
    "    g.text(row.name, row.Media_Tx_Contaminacao,round(row.Media_Tx_Contaminacao,2), color='black', ha=\"center\")\n",
    "\n",
    "plt.show()"
   ]
  },
  {
   "cell_type": "code",
   "execution_count": 273,
   "id": "bcf84986",
   "metadata": {},
   "outputs": [
    {
     "data": {
      "text/plain": [
       "<AxesSubplot:xlabel='Media_Tx_Contaminacao', ylabel='grau_proximidade'>"
      ]
     },
     "execution_count": 273,
     "metadata": {},
     "output_type": "execute_result"
    },
    {
     "data": {
      "image/png": "[encoded data removed]",
      "text/plain": [
       "<Figure size 432x288 with 1 Axes>"
      ]
     },
     "metadata": {
      "needs_background": "light"
     },
     "output_type": "display_data"
    }
   ],
   "source": [
    "#taxa media de contaminacao por grau_proximidade\n",
    "df_graup_grupo = df_populacao.groupby('grau_proximidade').agg({'prob_V1_V2' : 'mean'}).reset_index().rename(\n",
    "    columns = {'prob_V1_V2' : 'Media_Tx_Contaminacao'})\n",
    "\n",
    "sns.barplot(data=df_graup_grupo, y = 'grau_proximidade', x = 'Media_Tx_Contaminacao')"
   ]
  },
  {
   "cell_type": "code",
   "execution_count": 274,
   "id": "99b92503",
   "metadata": {},
   "outputs": [
    {
     "name": "stderr",
     "output_type": "stream",
     "text": [
      "C:\\Users\\stefanno.ruiz.manni\\Anaconda3\\envs\\neoway\\lib\\site-packages\\pandas\\core\\frame.py:3607: SettingWithCopyWarning: \n",
      "A value is trying to be set on a copy of a slice from a DataFrame.\n",
      "Try using .loc[row_indexer,col_indexer] = value instead\n",
      "\n",
      "See the caveats in the documentation: https://pandas.pydata.org/pandas-docs/stable/user_guide/indexing.html#returning-a-view-versus-a-copy\n",
      "  self._set_item(key, value)\n"
     ]
    }
   ],
   "source": [
    "#taxa media de contaminacao por idade do individuo V1\n",
    "\n",
    "#cria faixas de idade\n",
    "df_idade = df_populacao[['prob_V1_V2','idade_V1']]\n",
    "\n",
    "bins= [0,18,30,45,60,130]\n",
    "labels = ['0_18anos','19_30anos','31_45anos','46_60anos','60anos+']\n",
    "df_idade['faixa_idade'] = pd.cut(df_idade['idade_V1'], bins=bins, labels=labels, right=False)\n",
    "\n",
    "df_idade_grupo = df_idade.groupby('faixa_idade').agg({'prob_V1_V2' : 'mean',\n",
    "                                                     'idade_V1':'count'}).reset_index().rename(\n",
    "    columns = {'prob_V1_V2' : 'Media_Tx_Contaminacao'})\n"
   ]
  },
  {
   "cell_type": "code",
   "execution_count": 275,
   "id": "1d5f946b",
   "metadata": {},
   "outputs": [
    {
     "data": {
      "image/png": "[encoded data removed]",
      "text/plain": [
       "<Figure size 432x288 with 1 Axes>"
      ]
     },
     "metadata": {
      "needs_background": "light"
     },
     "output_type": "display_data"
    }
   ],
   "source": [
    "pal = sns.color_palette(\"Blues_d\", len(df_idade_grupo))\n",
    "rank = df_idade_grupo[\"Media_Tx_Contaminacao\"].argsort().argsort() \n",
    "g=sns.barplot(x='faixa_idade',y='Media_Tx_Contaminacao',data=df_idade_grupo, palette=np.array(pal[::-1])[rank])\n",
    "\n",
    "for index, row in df_idade_grupo.iterrows():\n",
    "    g.text(row.name, row.Media_Tx_Contaminacao,round(row.Media_Tx_Contaminacao,2), color='black', ha=\"center\")\n",
    "\n",
    "plt.show()"
   ]
  },
  {
   "cell_type": "markdown",
   "id": "cf4aa7d9",
   "metadata": {},
   "source": [
    "## Analise de correlacao"
   ]
  },
  {
   "cell_type": "code",
   "execution_count": 276,
   "id": "71487582",
   "metadata": {},
   "outputs": [],
   "source": [
    "#seta colunas para analise de correlacao\n",
    "vars_corr = ['prob_V1_V2','g_amigos','g_familia','g_trabalho','idade_V1','qt_filhos_V1','estuda_V1','pratica_esportes_V1','IMC_V1','idade_V2','qt_filhos_V2','estuda_V2',\n",
    "             'pratica_esportes_V2','IMC_V2','transporte_V1_particular',\n",
    "             'transporte_V1_publico','transporte_V1_taxi','transporte_V1_nan', 'estado_civil_V1_casado',\n",
    "             'estado_civil_V1_divorciado','estado_civil_V1_solteiro','estado_civil_V1_viuvo','estado_civil_V1_nan',\n",
    "             '_mora_junto','_visita_casual','_visita_frequente','_visita_rara','trasnporte_V2_particular',\n",
    "             'trasnporte_V2_publico','trasnporte_V2_taxi','trasnporte_V2_nan','estado_civil_V2_casado',\n",
    "             'estado_civil_V2_divorciado','estado_civil_V2_solteiro','estado_civil_V2_viuvo','estado_civil_V2_nan']\n",
    "\n",
    "vars_corr_reduced = ['prob_V1_V2','g_amigos','g_familia','g_trabalho','idade_V1','pratica_esportes_V1',\n",
    "             'transporte_V1_particular','transporte_V1_publico','transporte_V1_taxi','transporte_V1_nan', 'estado_civil_V1_casado',\n",
    "             'estado_civil_V1_divorciado','estado_civil_V1_solteiro','estado_civil_V1_viuvo',\n",
    "             '_mora_junto','_visita_casual','_visita_frequente','_visita_rara','trasnporte_V2_particular',\n",
    "             'trasnporte_V2_publico','gp_amigos_visita_casual', 'gp_amigos_visita_frequente',\n",
    "       'gp_amigos_visita_rara', 'gp_familia_mora_junto',\n",
    "       'gp_familia_visita_casual', 'gp_familia_visita_frequente',\n",
    "       'gp_familia_visita_rara', 'gp_trabalho_mora_junto',\n",
    "       'gp_trabalho_visita_casual', 'gp_trabalho_visita_frequente',\n",
    "       'gp_trabalho_visita_rara']"
   ]
  },
  {
   "cell_type": "code",
   "execution_count": 277,
   "id": "611db738",
   "metadata": {},
   "outputs": [],
   "source": [
    "corr = df_populacao[vars_corr_reduced].corr()"
   ]
  },
  {
   "cell_type": "code",
   "execution_count": 280,
   "id": "6451fbc1",
   "metadata": {},
   "outputs": [],
   "source": [
    "corr = corr.iloc[0:,0:1]"
   ]
  },
  {
   "cell_type": "code",
   "execution_count": 281,
   "id": "9421436b",
   "metadata": {},
   "outputs": [
    {
     "name": "stderr",
     "output_type": "stream",
     "text": [
      "C:\\Users\\stefanno.ruiz.manni\\Anaconda3\\envs\\neoway\\lib\\site-packages\\ipykernel_launcher.py:3: DeprecationWarning: `np.bool` is a deprecated alias for the builtin `bool`. To silence this warning, use `bool` by itself. Doing this will not modify any behavior and is safe. If you specifically wanted the numpy scalar type, use `np.bool_` here.\n",
      "Deprecated in NumPy 1.20; for more details and guidance: https://numpy.org/devdocs/release/1.20.0-notes.html#deprecations\n",
      "  This is separate from the ipykernel package so we can avoid doing imports until\n"
     ]
    },
    {
     "data": {
      "text/plain": [
       "<AxesSubplot:>"
      ]
     },
     "execution_count": 281,
     "metadata": {},
     "output_type": "execute_result"
    },
    {
     "data": {
      "image/png": "[encoded data removed]",
      "text/plain": [
       "<Figure size 792x648 with 2 Axes>"
      ]
     },
     "metadata": {
      "needs_background": "light"
     },
     "output_type": "display_data"
    }
   ],
   "source": [
    "#analise de correlacao reduzida, apenas vendo correlacao com a variavel resposta\n",
    "#mascara\n",
    "mask = np.zeros_like(corr,dtype=np.bool)\n",
    "mask[np.triu_indices_from(mask)] = True\n",
    "\n",
    "#configura area de plotagem\n",
    "f, ax = plt.subplots(figsize=(11,9))\n",
    "\n",
    "#definindo mapa de cores\n",
    "cmap = sns.diverging_palette(10,240, as_cmap=True)\n",
    "\n",
    "#desenhando o mapa de calor das correlacoes\n",
    "sns.heatmap(corr, mask=mask, cmap=cmap, vmax=1, center=0, vmin=-1, annot=True, square=True,fmt='.1f', linewidths=.5, cbar_kws={\"shrink\": .5})\n"
   ]
  },
  {
   "cell_type": "code",
   "execution_count": 130,
   "id": "df9c337d",
   "metadata": {},
   "outputs": [
    {
     "data": {
      "image/png": "[encoded data removed]",
      "text/plain": [
       "<Figure size 792x648 with 2 Axes>"
      ]
     },
     "metadata": {
      "needs_background": "light"
     },
     "output_type": "display_data"
    }
   ],
   "source": [
    "funcoes.corr_plot(df_populacao,vars_corr, annot=False)"
   ]
  },
  {
   "cell_type": "markdown",
   "id": "91eb681f",
   "metadata": {},
   "source": [
    "A analise de correlacao acima nos mostra que as variaveis que possuem maior correlacao (positiva) sobre a taxa de transmissao entre dois individuos é a pratica de esportes pelo individuo doente (V1) e a proximidade de visita casual, alem de grau de trabalho e amizade. Ja a utilizacao de transporte publico, porximidade de visita rara e grau de familia estao correlacionados negativamente com a taxa de transmissao entre dois individuos.\n",
    "\n",
    "As demais variaveis possuem baixas correlacoes com a taxa de transmissao e também possuem baixa correlacao entre si (exceto pelas variaveis binarias das variaveis categoricas), o que aponta que não temos problemas de multicolinearidade nas variaveis explicativas.\n",
    "\n",
    "As variaveis que possuem alta correlacao entre si sao variaveis binarias de uma mesma categoria, assim quando essas variaveis forem utilizadas no modelo, uma das categorias deve ser exlcuida."
   ]
  },
  {
   "cell_type": "markdown",
   "id": "e3780e48",
   "metadata": {},
   "source": [
    "### Plots de distribuicao das variaveis"
   ]
  },
  {
   "cell_type": "code",
   "execution_count": 282,
   "id": "39969b43",
   "metadata": {},
   "outputs": [],
   "source": [
    "num_vars = ['prob_V1_V2','idade_V1','qt_filhos_V1','estuda_V1','pratica_esportes_V1','IMC_V1','idade_V2','qt_filhos_V2','estuda_V2',\n",
    "             'pratica_esportes_V2','IMC_V2']"
   ]
  },
  {
   "cell_type": "code",
   "execution_count": 283,
   "id": "19669a87",
   "metadata": {},
   "outputs": [
    {
     "name": "stderr",
     "output_type": "stream",
     "text": [
      "C:\\Users\\stefanno.ruiz.manni\\Anaconda3\\envs\\neoway\\lib\\site-packages\\ipykernel_launcher.py:4: UserWarning: To output multiple subplots, the figure containing the passed axes is being cleared\n",
      "  after removing the cwd from sys.path.\n"
     ]
    },
    {
     "data": {
      "image/png": "[encoded data removed]",
      "text/plain": [
       "<Figure size 1080x1440 with 12 Axes>"
      ]
     },
     "metadata": {
      "needs_background": "light"
     },
     "output_type": "display_data"
    }
   ],
   "source": [
    "# Histograma Univariado das variaveis numericas\n",
    "fig = plt.figure(figsize = (15,20))\n",
    "ax = fig.gca()\n",
    "df_populacao[num_vars].hist(ax = ax)\n",
    "plt.show()"
   ]
  },
  {
   "cell_type": "markdown",
   "id": "f2a32e57",
   "metadata": {},
   "source": [
    "## barplot das variaveis categoricas"
   ]
  },
  {
   "cell_type": "code",
   "execution_count": 284,
   "id": "8a4f5308",
   "metadata": {},
   "outputs": [],
   "source": [
    "#agrupa tabela por categorias\n",
    "\n",
    "#tabela agrupada de transporte mais utilizado\n",
    "df_transporte_grupo = df_populacao.groupby('transporte_mais_utilizado_V1').agg({'V1' : 'count'}).reset_index().rename(\n",
    "    columns = {'V1' : 'individuos',\n",
    "               'transporte_mais_utilizado_V1' : 'transporte'})\n",
    "#tabela agrupada de proximidade\n",
    "df_proximidade_grupo = df_populacao.groupby('proximidade').agg({'V1' : 'count'}).reset_index().rename(\n",
    "    columns = {'V1' : 'relacoes'})\n",
    "\n",
    "df_ecivil_grupo = df_populacao.groupby('estado_civil_V1').agg({'V1' : 'count'}).reset_index().rename(\n",
    "    columns = {'V1' : 'individuos',\n",
    "               'estado_civil_V1' : 'estado_civil'})\n",
    "\n",
    "df_grau_grupo = df_populacao.groupby('grau').agg({'V1' : 'count'}).reset_index().rename(\n",
    "    columns = {'V1' : 'relacoes',\n",
    "               'grau' : 'grau_relacionamento'})"
   ]
  },
  {
   "cell_type": "code",
   "execution_count": 285,
   "id": "ed62d017",
   "metadata": {},
   "outputs": [
    {
     "data": {
      "text/html": [
       "<div>\n",
       "<style scoped>\n",
       "    .dataframe tbody tr th:only-of-type {\n",
       "        vertical-align: middle;\n",
       "    }\n",
       "\n",
       "    .dataframe tbody tr th {\n",
       "        vertical-align: top;\n",
       "    }\n",
       "\n",
       "    .dataframe thead th {\n",
       "        text-align: right;\n",
       "    }\n",
       "</style>\n",
       "<table border=\"1\" class=\"dataframe\">\n",
       "  <thead>\n",
       "    <tr style=\"text-align: right;\">\n",
       "      <th></th>\n",
       "      <th>proximidade</th>\n",
       "      <th>relacoes</th>\n",
       "    </tr>\n",
       "  </thead>\n",
       "  <tbody>\n",
       "    <tr>\n",
       "      <th>0</th>\n",
       "      <td>mora_junto</td>\n",
       "      <td>49891</td>\n",
       "    </tr>\n",
       "    <tr>\n",
       "      <th>1</th>\n",
       "      <td>visita_casual</td>\n",
       "      <td>150365</td>\n",
       "    </tr>\n",
       "    <tr>\n",
       "      <th>2</th>\n",
       "      <td>visita_frequente</td>\n",
       "      <td>99452</td>\n",
       "    </tr>\n",
       "    <tr>\n",
       "      <th>3</th>\n",
       "      <td>visita_rara</td>\n",
       "      <td>200291</td>\n",
       "    </tr>\n",
       "  </tbody>\n",
       "</table>\n",
       "</div>"
      ],
      "text/plain": [
       "        proximidade  relacoes\n",
       "0        mora_junto     49891\n",
       "1     visita_casual    150365\n",
       "2  visita_frequente     99452\n",
       "3       visita_rara    200291"
      ]
     },
     "execution_count": 285,
     "metadata": {},
     "output_type": "execute_result"
    }
   ],
   "source": [
    "df_proximidade_grupo"
   ]
  },
  {
   "cell_type": "code",
   "execution_count": 286,
   "id": "d3fbbdb9",
   "metadata": {},
   "outputs": [
    {
     "data": {
      "text/plain": [
       "<AxesSubplot:xlabel='transporte', ylabel='individuos'>"
      ]
     },
     "execution_count": 286,
     "metadata": {},
     "output_type": "execute_result"
    },
    {
     "data": {
      "image/png": "[encoded data removed]",
      "text/plain": [
       "<Figure size 432x288 with 1 Axes>"
      ]
     },
     "metadata": {
      "needs_background": "light"
     },
     "output_type": "display_data"
    }
   ],
   "source": [
    "sns.barplot(data=df_transporte_grupo, y = 'individuos', x = 'transporte')"
   ]
  },
  {
   "cell_type": "code",
   "execution_count": 287,
   "id": "bf72e968",
   "metadata": {},
   "outputs": [
    {
     "data": {
      "text/plain": [
       "<AxesSubplot:xlabel='proximidade', ylabel='relacoes'>"
      ]
     },
     "execution_count": 287,
     "metadata": {},
     "output_type": "execute_result"
    },
    {
     "data": {
      "image/png": "[encoded data removed]",
      "text/plain": [
       "<Figure size 432x288 with 1 Axes>"
      ]
     },
     "metadata": {
      "needs_background": "light"
     },
     "output_type": "display_data"
    }
   ],
   "source": [
    "sns.barplot(data=df_proximidade_grupo, y = 'relacoes', x = 'proximidade')\n"
   ]
  },
  {
   "cell_type": "code",
   "execution_count": 288,
   "id": "4883adae",
   "metadata": {},
   "outputs": [
    {
     "data": {
      "text/plain": [
       "<AxesSubplot:xlabel='estado_civil', ylabel='individuos'>"
      ]
     },
     "execution_count": 288,
     "metadata": {},
     "output_type": "execute_result"
    },
    {
     "data": {
      "image/png": "[encoded data removed]",
      "text/plain": [
       "<Figure size 432x288 with 1 Axes>"
      ]
     },
     "metadata": {
      "needs_background": "light"
     },
     "output_type": "display_data"
    }
   ],
   "source": [
    "sns.barplot(data=df_ecivil_grupo, y = 'individuos', x = 'estado_civil')"
   ]
  },
  {
   "cell_type": "code",
   "execution_count": 289,
   "id": "c7d5c7cf",
   "metadata": {},
   "outputs": [
    {
     "data": {
      "text/plain": [
       "<AxesSubplot:xlabel='grau_relacionamento', ylabel='relacoes'>"
      ]
     },
     "execution_count": 289,
     "metadata": {},
     "output_type": "execute_result"
    },
    {
     "data": {
      "image/png": "[encoded data removed]",
      "text/plain": [
       "<Figure size 432x288 with 1 Axes>"
      ]
     },
     "metadata": {
      "needs_background": "light"
     },
     "output_type": "display_data"
    }
   ],
   "source": [
    "sns.barplot(data=df_grau_grupo, y = 'relacoes', x = 'grau_relacionamento')"
   ]
  },
  {
   "cell_type": "markdown",
   "id": "7add0c63",
   "metadata": {},
   "source": [
    "# Tratamento dos dados"
   ]
  },
  {
   "cell_type": "markdown",
   "id": "e3aa25be",
   "metadata": {},
   "source": [
    "## Tratando os dados missing\n",
    "\n",
    "Como visto anteriormente os dados missing precisam ser tratados. As variaveis binarias terao os missing substituidos pela moda, ja as variaveis numericas pela media."
   ]
  },
  {
   "cell_type": "code",
   "execution_count": 290,
   "id": "862e274c",
   "metadata": {},
   "outputs": [
    {
     "name": "stdout",
     "output_type": "stream",
     "text": [
      "substituindo pela moda\n",
      "tratando pratica_esportes_V1\n",
      "tratando pratica_esportes_V2\n",
      "tratando trabalha_V1\n",
      "tratando trabalha_V2\n",
      "tratando estuda_V1\n",
      "tratando estuda_V2\n",
      "substituindo pela moda\n",
      "tratando pratica_esportes_V1\n",
      "tratando pratica_esportes_V2\n",
      "tratando trabalha_V1\n",
      "tratando trabalha_V2\n",
      "tratando estuda_V1\n",
      "tratando estuda_V2\n"
     ]
    }
   ],
   "source": [
    "#trata variaveis binarias pela moda\n",
    "bin_vars= ['pratica_esportes_V1','pratica_esportes_V2','trabalha_V1','trabalha_V2','estuda_V1','estuda_V2']\n",
    "\n",
    "#trata dados da populacao conhecida\n",
    "funcoes.trata_missing(df_populacao,vars=bin_vars,tipo='moda')\n",
    "\n",
    "#trata dados da populacao a ter a taxa estimada\n",
    "funcoes.trata_missing(df_to_predict,vars=bin_vars,tipo='moda')"
   ]
  },
  {
   "cell_type": "code",
   "execution_count": 291,
   "id": "c5231836",
   "metadata": {},
   "outputs": [
    {
     "name": "stdout",
     "output_type": "stream",
     "text": [
      "substituindo pela media\n",
      "tratando: idade_V1\n",
      "tratando: qt_filhos_V1\n",
      "tratando: IMC_V1\n",
      "tratando: idade_V2\n",
      "tratando: qt_filhos_V2\n",
      "tratando: IMC_V2\n",
      "substituindo pela media\n",
      "tratando: idade_V1\n",
      "tratando: qt_filhos_V1\n",
      "tratando: IMC_V1\n",
      "tratando: idade_V2\n",
      "tratando: qt_filhos_V2\n",
      "tratando: IMC_V2\n"
     ]
    }
   ],
   "source": [
    "#trata variaveis numericas pela media\n",
    "num_vars = ['idade_V1','qt_filhos_V1','IMC_V1','idade_V2','qt_filhos_V2','IMC_V2']\n",
    "\n",
    "#trata dados da populacao conhecida\n",
    "funcoes.trata_missing(df_populacao,vars=num_vars,tipo='media')\n",
    "\n",
    "#trata dados da populacao a ter a taxa estimada\n",
    "funcoes.trata_missing(df_to_predict,vars=num_vars,tipo='media')"
   ]
  },
  {
   "cell_type": "code",
   "execution_count": 292,
   "id": "75e8058c",
   "metadata": {},
   "outputs": [],
   "source": [
    "#dropando variaveis que nao serao utilizadas (variaveis categoricas que ja foram binarizadas)\n",
    "dropa = ['estado_civil_V1','transporte_mais_utilizado_V1','estado_civil_V2','transporte_mais_utilizado_V2','_nan']\n",
    "\n",
    "df_populacao.drop(dropa,axis = 1, inplace=True)\n",
    "df_to_predict.drop(dropa,axis = 1, inplace=True)"
   ]
  },
  {
   "cell_type": "code",
   "execution_count": 293,
   "id": "e8cfaed1",
   "metadata": {},
   "outputs": [
    {
     "data": {
      "text/plain": [
       "V1                              0\n",
       "V2                              0\n",
       "grau                            0\n",
       "proximidade                     0\n",
       "prob_V1_V2                      0\n",
       "name_V1                         0\n",
       "idade_V1                        0\n",
       "qt_filhos_V1                    0\n",
       "estuda_V1                       0\n",
       "trabalha_V1                     0\n",
       "pratica_esportes_V1             0\n",
       "IMC_V1                          0\n",
       "name_V2                         0\n",
       "idade_V2                        0\n",
       "qt_filhos_V2                    0\n",
       "estuda_V2                       0\n",
       "trabalha_V2                     0\n",
       "pratica_esportes_V2             0\n",
       "IMC_V2                          0\n",
       "grau_proximidade                0\n",
       "transporte_V1_particular        0\n",
       "transporte_V1_publico           0\n",
       "transporte_V1_taxi              0\n",
       "transporte_V1_nan               0\n",
       "estado_civil_V1_casado          0\n",
       "estado_civil_V1_divorciado      0\n",
       "estado_civil_V1_solteiro        0\n",
       "estado_civil_V1_viuvo           0\n",
       "estado_civil_V1_nan             0\n",
       "_mora_junto                     0\n",
       "_visita_casual                  0\n",
       "_visita_frequente               0\n",
       "_visita_rara                    0\n",
       "g_amigos                        0\n",
       "g_familia                       0\n",
       "g_trabalho                      0\n",
       "g_nan                           0\n",
       "gp_amigos_mora_junto            0\n",
       "gp_amigos_visita_casual         0\n",
       "gp_amigos_visita_frequente      0\n",
       "gp_amigos_visita_rara           0\n",
       "gp_familia_mora_junto           0\n",
       "gp_familia_visita_casual        0\n",
       "gp_familia_visita_frequente     0\n",
       "gp_familia_visita_rara          0\n",
       "gp_trabalho_mora_junto          0\n",
       "gp_trabalho_visita_casual       0\n",
       "gp_trabalho_visita_frequente    0\n",
       "gp_trabalho_visita_rara         0\n",
       "gp_nan                          0\n",
       "trasnporte_V2_particular        0\n",
       "trasnporte_V2_publico           0\n",
       "trasnporte_V2_taxi              0\n",
       "trasnporte_V2_nan               0\n",
       "estado_civil_V2_casado          0\n",
       "estado_civil_V2_divorciado      0\n",
       "estado_civil_V2_solteiro        0\n",
       "estado_civil_V2_viuvo           0\n",
       "estado_civil_V2_nan             0\n",
       "dtype: int64"
      ]
     },
     "execution_count": 293,
     "metadata": {},
     "output_type": "execute_result"
    }
   ],
   "source": [
    "#check nulos\n",
    "df_populacao.isnull().sum()"
   ]
  },
  {
   "cell_type": "code",
   "execution_count": 294,
   "id": "fb30352f",
   "metadata": {},
   "outputs": [
    {
     "data": {
      "text/plain": [
       "V1                                   0\n",
       "V2                                   0\n",
       "grau                                 0\n",
       "proximidade                          0\n",
       "prob_V1_V2                      500000\n",
       "name_V1                              0\n",
       "idade_V1                             0\n",
       "qt_filhos_V1                         0\n",
       "estuda_V1                            0\n",
       "trabalha_V1                          0\n",
       "pratica_esportes_V1                  0\n",
       "IMC_V1                               0\n",
       "name_V2                              0\n",
       "idade_V2                             0\n",
       "qt_filhos_V2                         0\n",
       "estuda_V2                            0\n",
       "trabalha_V2                          0\n",
       "pratica_esportes_V2                  0\n",
       "IMC_V2                               0\n",
       "grau_proximidade                     0\n",
       "transporte_V1_particular             0\n",
       "transporte_V1_publico                0\n",
       "transporte_V1_taxi                   0\n",
       "transporte_V1_nan                    0\n",
       "estado_civil_V1_casado               0\n",
       "estado_civil_V1_divorciado           0\n",
       "estado_civil_V1_solteiro             0\n",
       "estado_civil_V1_viuvo                0\n",
       "estado_civil_V1_nan                  0\n",
       "_mora_junto                          0\n",
       "_visita_casual                       0\n",
       "_visita_frequente                    0\n",
       "_visita_rara                         0\n",
       "g_amigos                             0\n",
       "g_familia                            0\n",
       "g_trabalho                           0\n",
       "g_nan                                0\n",
       "gp_amigos_mora_junto                 0\n",
       "gp_amigos_visita_casual              0\n",
       "gp_amigos_visita_frequente           0\n",
       "gp_amigos_visita_rara                0\n",
       "gp_familia_mora_junto                0\n",
       "gp_familia_visita_casual             0\n",
       "gp_familia_visita_frequente          0\n",
       "gp_familia_visita_rara               0\n",
       "gp_trabalho_mora_junto               0\n",
       "gp_trabalho_visita_casual            0\n",
       "gp_trabalho_visita_frequente         0\n",
       "gp_trabalho_visita_rara              0\n",
       "gp_nan                               0\n",
       "trasnporte_V2_particular             0\n",
       "trasnporte_V2_publico                0\n",
       "trasnporte_V2_taxi                   0\n",
       "trasnporte_V2_nan                    0\n",
       "estado_civil_V2_casado               0\n",
       "estado_civil_V2_divorciado           0\n",
       "estado_civil_V2_solteiro             0\n",
       "estado_civil_V2_viuvo                0\n",
       "estado_civil_V2_nan                  0\n",
       "dtype: int64"
      ]
     },
     "execution_count": 294,
     "metadata": {},
     "output_type": "execute_result"
    }
   ],
   "source": [
    "#check nulos\n",
    "df_to_predict.isnull().sum()"
   ]
  },
  {
   "cell_type": "markdown",
   "id": "8b6eae8f",
   "metadata": {},
   "source": [
    "## Normalizando os dados\n",
    "\n",
    "Para problemas de regressao a normalizacao das variaveis pode ser um passo importante a depender da tecnica a ser utilizada para que uma variavel nao predomine sobre a outra.\n",
    "\n",
    "Nesse projeto vamos aplicar o MinMaxScaler para colocar todas as variaveis numericas nao binarias na mesma escala entre 0 e 1. O MinMax sera treinado nos dados da populacao e aplicado na populacao a ser predita.\n",
    "\n",
    "Para alguns algoritmos esse passo pode ser desnecessario."
   ]
  },
  {
   "cell_type": "code",
   "execution_count": 295,
   "id": "74c600e1",
   "metadata": {},
   "outputs": [],
   "source": [
    "vars_norm = ['idade_V1','idade_V2','qt_filhos_V1','qt_filhos_V2','IMC_V1','IMC_V2']"
   ]
  },
  {
   "cell_type": "code",
   "execution_count": 296,
   "id": "5323b531",
   "metadata": {},
   "outputs": [],
   "source": [
    "#gerando o scaler\n",
    "scaler = MinMaxScaler()\n",
    "\n",
    "#dando fit no scaler\n",
    "scaler.fit(df_populacao[vars_norm])\n",
    "\n",
    "#normalizando variaveis no dataset da populacao\n",
    "df_populacao[vars_norm] = scaler.fit_transform(df_populacao[vars_norm])\n",
    "\n",
    "#normalizando as variaveis do restante da populacao (a ser predita), \n",
    "#utilizando o scaler dos dados da populacao (que serao usado no treino do modelo)\n",
    "df_to_predict[vars_norm] = scaler.transform(df_to_predict[vars_norm])"
   ]
  },
  {
   "cell_type": "code",
   "execution_count": 297,
   "id": "181194c2",
   "metadata": {},
   "outputs": [
    {
     "data": {
      "text/html": [
       "<div>\n",
       "<style scoped>\n",
       "    .dataframe tbody tr th:only-of-type {\n",
       "        vertical-align: middle;\n",
       "    }\n",
       "\n",
       "    .dataframe tbody tr th {\n",
       "        vertical-align: top;\n",
       "    }\n",
       "\n",
       "    .dataframe thead th {\n",
       "        text-align: right;\n",
       "    }\n",
       "</style>\n",
       "<table border=\"1\" class=\"dataframe\">\n",
       "  <thead>\n",
       "    <tr style=\"text-align: right;\">\n",
       "      <th></th>\n",
       "      <th>idade_V1</th>\n",
       "      <th>idade_V2</th>\n",
       "      <th>qt_filhos_V1</th>\n",
       "      <th>qt_filhos_V2</th>\n",
       "      <th>IMC_V1</th>\n",
       "      <th>IMC_V2</th>\n",
       "    </tr>\n",
       "  </thead>\n",
       "  <tbody>\n",
       "    <tr>\n",
       "      <th>2</th>\n",
       "      <td>0.216216</td>\n",
       "      <td>0.403226</td>\n",
       "      <td>0.000</td>\n",
       "      <td>0.125</td>\n",
       "      <td>0.238740</td>\n",
       "      <td>0.268115</td>\n",
       "    </tr>\n",
       "    <tr>\n",
       "      <th>4</th>\n",
       "      <td>0.315315</td>\n",
       "      <td>0.161290</td>\n",
       "      <td>0.125</td>\n",
       "      <td>0.125</td>\n",
       "      <td>0.173972</td>\n",
       "      <td>0.188187</td>\n",
       "    </tr>\n",
       "    <tr>\n",
       "      <th>6</th>\n",
       "      <td>0.450450</td>\n",
       "      <td>0.403226</td>\n",
       "      <td>0.125</td>\n",
       "      <td>0.000</td>\n",
       "      <td>0.254893</td>\n",
       "      <td>0.201249</td>\n",
       "    </tr>\n",
       "    <tr>\n",
       "      <th>9</th>\n",
       "      <td>0.270270</td>\n",
       "      <td>0.169355</td>\n",
       "      <td>0.250</td>\n",
       "      <td>0.000</td>\n",
       "      <td>0.118391</td>\n",
       "      <td>0.238311</td>\n",
       "    </tr>\n",
       "    <tr>\n",
       "      <th>10</th>\n",
       "      <td>0.180180</td>\n",
       "      <td>0.338710</td>\n",
       "      <td>0.125</td>\n",
       "      <td>0.125</td>\n",
       "      <td>0.179469</td>\n",
       "      <td>0.214185</td>\n",
       "    </tr>\n",
       "  </tbody>\n",
       "</table>\n",
       "</div>"
      ],
      "text/plain": [
       "    idade_V1  idade_V2  qt_filhos_V1  qt_filhos_V2    IMC_V1    IMC_V2\n",
       "2   0.216216  0.403226         0.000         0.125  0.238740  0.268115\n",
       "4   0.315315  0.161290         0.125         0.125  0.173972  0.188187\n",
       "6   0.450450  0.403226         0.125         0.000  0.254893  0.201249\n",
       "9   0.270270  0.169355         0.250         0.000  0.118391  0.238311\n",
       "10  0.180180  0.338710         0.125         0.125  0.179469  0.214185"
      ]
     },
     "execution_count": 297,
     "metadata": {},
     "output_type": "execute_result"
    }
   ],
   "source": [
    "df_to_predict[vars_norm].head()"
   ]
  },
  {
   "cell_type": "code",
   "execution_count": 298,
   "id": "cd526ce4",
   "metadata": {},
   "outputs": [
    {
     "data": {
      "text/html": [
       "<div>\n",
       "<style scoped>\n",
       "    .dataframe tbody tr th:only-of-type {\n",
       "        vertical-align: middle;\n",
       "    }\n",
       "\n",
       "    .dataframe tbody tr th {\n",
       "        vertical-align: top;\n",
       "    }\n",
       "\n",
       "    .dataframe thead th {\n",
       "        text-align: right;\n",
       "    }\n",
       "</style>\n",
       "<table border=\"1\" class=\"dataframe\">\n",
       "  <thead>\n",
       "    <tr style=\"text-align: right;\">\n",
       "      <th></th>\n",
       "      <th>idade_V1</th>\n",
       "      <th>idade_V2</th>\n",
       "      <th>qt_filhos_V1</th>\n",
       "      <th>qt_filhos_V2</th>\n",
       "      <th>IMC_V1</th>\n",
       "      <th>IMC_V2</th>\n",
       "    </tr>\n",
       "  </thead>\n",
       "  <tbody>\n",
       "    <tr>\n",
       "      <th>0</th>\n",
       "      <td>0.396396</td>\n",
       "      <td>0.193548</td>\n",
       "      <td>0.125</td>\n",
       "      <td>0.000</td>\n",
       "      <td>0.200811</td>\n",
       "      <td>0.250997</td>\n",
       "    </tr>\n",
       "    <tr>\n",
       "      <th>1</th>\n",
       "      <td>0.396396</td>\n",
       "      <td>0.282258</td>\n",
       "      <td>0.125</td>\n",
       "      <td>0.125</td>\n",
       "      <td>0.200811</td>\n",
       "      <td>0.182362</td>\n",
       "    </tr>\n",
       "    <tr>\n",
       "      <th>3</th>\n",
       "      <td>0.216216</td>\n",
       "      <td>0.241935</td>\n",
       "      <td>0.000</td>\n",
       "      <td>0.250</td>\n",
       "      <td>0.238740</td>\n",
       "      <td>0.123461</td>\n",
       "    </tr>\n",
       "    <tr>\n",
       "      <th>5</th>\n",
       "      <td>0.315315</td>\n",
       "      <td>0.443548</td>\n",
       "      <td>0.125</td>\n",
       "      <td>0.125</td>\n",
       "      <td>0.173972</td>\n",
       "      <td>0.214279</td>\n",
       "    </tr>\n",
       "    <tr>\n",
       "      <th>7</th>\n",
       "      <td>0.450450</td>\n",
       "      <td>0.338710</td>\n",
       "      <td>0.125</td>\n",
       "      <td>0.125</td>\n",
       "      <td>0.254893</td>\n",
       "      <td>0.445970</td>\n",
       "    </tr>\n",
       "  </tbody>\n",
       "</table>\n",
       "</div>"
      ],
      "text/plain": [
       "   idade_V1  idade_V2  qt_filhos_V1  qt_filhos_V2    IMC_V1    IMC_V2\n",
       "0  0.396396  0.193548         0.125         0.000  0.200811  0.250997\n",
       "1  0.396396  0.282258         0.125         0.125  0.200811  0.182362\n",
       "3  0.216216  0.241935         0.000         0.250  0.238740  0.123461\n",
       "5  0.315315  0.443548         0.125         0.125  0.173972  0.214279\n",
       "7  0.450450  0.338710         0.125         0.125  0.254893  0.445970"
      ]
     },
     "execution_count": 298,
     "metadata": {},
     "output_type": "execute_result"
    }
   ],
   "source": [
    "df_populacao[vars_norm].head()"
   ]
  },
  {
   "cell_type": "markdown",
   "id": "d5735d99",
   "metadata": {},
   "source": [
    "# Feature Selection"
   ]
  },
  {
   "cell_type": "code",
   "execution_count": 299,
   "id": "025efe1b",
   "metadata": {},
   "outputs": [],
   "source": [
    "#realizando lasso para selecao de variaveis\n",
    "\n",
    "#definindo X e Y\n",
    "\n",
    "Y_lasso = df_populacao.filter(['prob_V1_V2'])\n",
    "\n",
    "#x contendo todas as variaveis e excluindo as dummies redundantes (estado_civil_solteiro, tranporte_publico e visita rara)\n",
    "X_lasso = df_populacao.filter(['idade_V1','qt_filhos_V1','estuda_V1','pratica_esportes_V1','IMC_V1','idade_V2','qt_filhos_V2','estuda_V2',\n",
    "             'pratica_esportes_V2','IMC_V2','transporte_V1_particular',\n",
    "             'transporte_V1_publico','transporte_V1_taxi','transporte_V1_nan', 'estado_civil_V1_casado',\n",
    "             'estado_civil_V1_divorciado','estado_civil_V1_solteiro','estado_civil_V1_viuvo','estado_civil_V1_nan',\n",
    "             '_mora_junto','_visita_casual','_visita_frequente','_visita_rara','trasnporte_V2_particular',\n",
    "             'trasnporte_V2_publico','trasnporte_V2_taxi','trasnporte_V2_nan','estado_civil_V2_casado',\n",
    "             'estado_civil_V2_divorciado','estado_civil_V2_solteiro','estado_civil_V2_viuvo','estado_civil_V2_nan','gp_amigos_visita_casual', 'gp_amigos_visita_frequente',\n",
    "       'gp_amigos_visita_rara', 'gp_familia_mora_junto',\n",
    "       'gp_familia_visita_casual', 'gp_familia_visita_frequente',\n",
    "       'gp_familia_visita_rara', 'gp_trabalho_mora_junto',\n",
    "       'gp_trabalho_visita_casual', 'gp_trabalho_visita_frequente',\n",
    "       'gp_trabalho_visita_rara'])\n",
    "\n"
   ]
  },
  {
   "cell_type": "code",
   "execution_count": 300,
   "id": "358c4ce5",
   "metadata": {},
   "outputs": [],
   "source": [
    "#cria modelo\n",
    "selecao_lasso = Lasso(alpha=0.0005)"
   ]
  },
  {
   "cell_type": "code",
   "execution_count": 301,
   "id": "4676e3e8",
   "metadata": {},
   "outputs": [
    {
     "data": {
      "text/plain": [
       "Lasso(alpha=0.0005)"
      ]
     },
     "execution_count": 301,
     "metadata": {},
     "output_type": "execute_result"
    }
   ],
   "source": [
    "#fit do modelo\n",
    "selecao_lasso.fit(X_lasso,Y_lasso)"
   ]
  },
  {
   "cell_type": "code",
   "execution_count": 302,
   "id": "899c235d",
   "metadata": {},
   "outputs": [
    {
     "name": "stdout",
     "output_type": "stream",
     "text": [
      "                             var          coef\n",
      "0                       idade_V1 -2.450436e-02\n",
      "2                      estuda_V1  3.084000e-02\n",
      "3            pratica_esportes_V1  1.105659e-01\n",
      "11         transporte_V1_publico  1.775163e-02\n",
      "12            transporte_V1_taxi -3.939510e-02\n",
      "14        estado_civil_V1_casado  3.509953e-02\n",
      "15    estado_civil_V1_divorciado  3.592823e-02\n",
      "16      estado_civil_V1_solteiro -1.664055e-02\n",
      "17         estado_civil_V1_viuvo -9.238012e-02\n",
      "19                   _mora_junto -9.009750e-02\n",
      "20                _visita_casual  5.710730e-02\n",
      "22                  _visita_rara -1.815751e-03\n",
      "23      trasnporte_V2_particular  7.456570e-02\n",
      "24         trasnporte_V2_publico -2.834602e-02\n",
      "32       gp_amigos_visita_casual  6.371771e-04\n",
      "33    gp_amigos_visita_frequente  6.326522e-02\n",
      "34         gp_amigos_visita_rara -1.446522e-08\n",
      "35         gp_familia_mora_junto -6.334766e-02\n",
      "36      gp_familia_visita_casual  8.662029e-02\n",
      "37   gp_familia_visita_frequente -9.891692e-02\n",
      "38        gp_familia_visita_rara -1.627727e-01\n",
      "39        gp_trabalho_mora_junto  2.006941e-02\n",
      "40     gp_trabalho_visita_casual -2.583664e-02\n",
      "41  gp_trabalho_visita_frequente  6.324968e-03\n",
      "42       gp_trabalho_visita_rara  3.421477e-02\n"
     ]
    }
   ],
   "source": [
    "coeficientes = pd.DataFrame({'var' : X_lasso.columns,'coef':selecao_lasso.coef_})\n",
    "print(coeficientes[coeficientes.coef != 0])"
   ]
  },
  {
   "cell_type": "code",
   "execution_count": 303,
   "id": "221ef0e5",
   "metadata": {},
   "outputs": [
    {
     "name": "stdout",
     "output_type": "stream",
     "text": [
      "                             var          coef\n",
      "0                       idade_V1 -2.450436e-02\n",
      "1                   qt_filhos_V1 -0.000000e+00\n",
      "2                      estuda_V1  3.084000e-02\n",
      "3            pratica_esportes_V1  1.105659e-01\n",
      "4                         IMC_V1  0.000000e+00\n",
      "5                       idade_V2 -0.000000e+00\n",
      "6                   qt_filhos_V2 -0.000000e+00\n",
      "7                      estuda_V2  0.000000e+00\n",
      "8            pratica_esportes_V2 -0.000000e+00\n",
      "9                         IMC_V2  0.000000e+00\n",
      "10      transporte_V1_particular -0.000000e+00\n",
      "11         transporte_V1_publico  1.775163e-02\n",
      "12            transporte_V1_taxi -3.939510e-02\n",
      "13             transporte_V1_nan  0.000000e+00\n",
      "14        estado_civil_V1_casado  3.509953e-02\n",
      "15    estado_civil_V1_divorciado  3.592823e-02\n",
      "16      estado_civil_V1_solteiro -1.664055e-02\n",
      "17         estado_civil_V1_viuvo -9.238012e-02\n",
      "18           estado_civil_V1_nan  0.000000e+00\n",
      "19                   _mora_junto -9.009750e-02\n",
      "20                _visita_casual  5.710730e-02\n",
      "21             _visita_frequente  0.000000e+00\n",
      "22                  _visita_rara -1.815751e-03\n",
      "23      trasnporte_V2_particular  7.456570e-02\n",
      "24         trasnporte_V2_publico -2.834602e-02\n",
      "25            trasnporte_V2_taxi -0.000000e+00\n",
      "26             trasnporte_V2_nan  0.000000e+00\n",
      "27        estado_civil_V2_casado -0.000000e+00\n",
      "28    estado_civil_V2_divorciado -0.000000e+00\n",
      "29      estado_civil_V2_solteiro  0.000000e+00\n",
      "30         estado_civil_V2_viuvo -0.000000e+00\n",
      "31           estado_civil_V2_nan  0.000000e+00\n",
      "32       gp_amigos_visita_casual  6.371771e-04\n",
      "33    gp_amigos_visita_frequente  6.326522e-02\n",
      "34         gp_amigos_visita_rara -1.446522e-08\n",
      "35         gp_familia_mora_junto -6.334766e-02\n",
      "36      gp_familia_visita_casual  8.662029e-02\n",
      "37   gp_familia_visita_frequente -9.891692e-02\n",
      "38        gp_familia_visita_rara -1.627727e-01\n",
      "39        gp_trabalho_mora_junto  2.006941e-02\n",
      "40     gp_trabalho_visita_casual -2.583664e-02\n",
      "41  gp_trabalho_visita_frequente  6.324968e-03\n",
      "42       gp_trabalho_visita_rara  3.421477e-02\n"
     ]
    }
   ],
   "source": [
    "print(coeficientes)"
   ]
  },
  {
   "cell_type": "markdown",
   "id": "393b9942",
   "metadata": {},
   "source": [
    "Com base no metodo de regressao lasso podemos utiliza-lo para selecionar quais variaveis deveriam entrar no modelo. A regressao lasso ao tentar minimizar a funcao de custo seleciona quais variaveis sao importantes, zerando o coeficiente das variaveis nao relevantes.\n",
    "\n",
    "Utilizando o resultado da analise acima podemos concluir que a maior parte das variaveis relacionadas ao individuo saudavel nao sao relevantes para o modelo. Para a criacao do nosso modelo base utilizaremos as variaveis em que os coeficientes nao foram zerados"
   ]
  },
  {
   "cell_type": "markdown",
   "id": "0bdc754b",
   "metadata": {},
   "source": [
    "# Criando modelo Base linear"
   ]
  },
  {
   "cell_type": "markdown",
   "id": "57cdcd07",
   "metadata": {},
   "source": [
    "## Selecionando as variaveis do lasso"
   ]
  },
  {
   "cell_type": "code",
   "execution_count": 304,
   "id": "0e86835a",
   "metadata": {},
   "outputs": [],
   "source": [
    "coeficientes = coeficientes[coeficientes.coef!=0]"
   ]
  },
  {
   "cell_type": "code",
   "execution_count": 305,
   "id": "a640ef01",
   "metadata": {},
   "outputs": [
    {
     "data": {
      "text/plain": [
       "['idade_V1',\n",
       " 'estuda_V1',\n",
       " 'pratica_esportes_V1',\n",
       " 'transporte_V1_publico',\n",
       " 'transporte_V1_taxi',\n",
       " 'estado_civil_V1_casado',\n",
       " 'estado_civil_V1_divorciado',\n",
       " 'estado_civil_V1_solteiro',\n",
       " 'estado_civil_V1_viuvo',\n",
       " '_mora_junto',\n",
       " '_visita_casual',\n",
       " '_visita_rara',\n",
       " 'trasnporte_V2_particular',\n",
       " 'trasnporte_V2_publico',\n",
       " 'gp_amigos_visita_casual',\n",
       " 'gp_amigos_visita_frequente',\n",
       " 'gp_amigos_visita_rara',\n",
       " 'gp_familia_mora_junto',\n",
       " 'gp_familia_visita_casual',\n",
       " 'gp_familia_visita_frequente',\n",
       " 'gp_familia_visita_rara',\n",
       " 'gp_trabalho_mora_junto',\n",
       " 'gp_trabalho_visita_casual',\n",
       " 'gp_trabalho_visita_frequente',\n",
       " 'gp_trabalho_visita_rara']"
      ]
     },
     "execution_count": 305,
     "metadata": {},
     "output_type": "execute_result"
    }
   ],
   "source": [
    "vars_selected = coeficientes['var'].tolist()\n",
    "vars_selected"
   ]
  },
  {
   "cell_type": "code",
   "execution_count": 393,
   "id": "52083cc6",
   "metadata": {},
   "outputs": [],
   "source": [
    "#tira variaveis selecionadas extremamente correlacionados --> tranposrte publico e particular e casado e divorciado\n",
    "#vou manter apenas transporte particular e casado\n",
    "vars_selected_manual=[\n",
    "'idade_V1',\n",
    "'estuda_V1',\n",
    "'pratica_esportes_V1',\n",
    "'transporte_V1_publico',\n",
    "'transporte_V1_taxi',\n",
    "'estado_civil_V1_casado',\n",
    "'estado_civil_V1_solteiro',\n",
    "'estado_civil_V1_viuvo',\n",
    "#'_mora_junto',\n",
    "#'_visita_casual',\n",
    "#'_visita_rara',\n",
    "'trasnporte_V2_particular',\n",
    "'gp_amigos_visita_casual',\n",
    "'gp_amigos_visita_frequente',\n",
    "'gp_amigos_visita_rara',\n",
    "'gp_familia_mora_junto',\n",
    "'gp_familia_visita_casual',\n",
    "'gp_familia_visita_frequente',\n",
    "'gp_familia_visita_rara',\n",
    "'gp_trabalho_mora_junto',\n",
    "'gp_trabalho_visita_casual',\n",
    "'gp_trabalho_visita_frequente',\n",
    "'gp_trabalho_visita_rara']"
   ]
  },
  {
   "cell_type": "markdown",
   "id": "0b7bbfbd",
   "metadata": {},
   "source": [
    "## Cross validation do modelo linear\n",
    "Realizando o cross validation do modelo lienar para determinar baselines de comparacao"
   ]
  },
  {
   "cell_type": "code",
   "execution_count": 394,
   "id": "0d108d50",
   "metadata": {},
   "outputs": [
    {
     "data": {
      "text/plain": [
       "{'fit_time': array([0.51362753, 0.51861477, 0.50066257, 0.48370814, 0.55551648]),\n",
       " 'score_time': array([0.02393508, 0.01695609, 0.02094603, 0.01695371, 0.01795125]),\n",
       " 'test_score': array([-0.11849147, -0.1182909 , -0.11783772, -0.11804355, -0.11772963]),\n",
       " 'train_score': array([-0.11797092, -0.1180207 , -0.11813431, -0.11808288, -0.11816085])}"
      ]
     },
     "execution_count": 394,
     "metadata": {},
     "output_type": "execute_result"
    }
   ],
   "source": [
    "\n",
    "#definindo X e Y\n",
    "\n",
    "Y = df_populacao.filter(['prob_V1_V2'])\n",
    "\n",
    "#x \n",
    "X = df_populacao.filter(vars_selected_manual)\n",
    "\n",
    "\n",
    "\n",
    "# Definindo os valores para o número de folds\n",
    "num_folds = 5\n",
    "seed = 7\n",
    "\n",
    "# Separando os dados em folds\n",
    "kfold = KFold(num_folds, shuffle = True, random_state = seed)\n",
    "\n",
    "# Criando o modelo\n",
    "modelo = LinearRegression()\n",
    "\n",
    "# Cross Validation\n",
    "resultado_rmse = cross_validate(modelo, X, Y, cv = kfold, scoring = 'neg_root_mean_squared_error', return_train_score = True)\n",
    "resultado_r2 = cross_validate(modelo, X, Y, cv = kfold, scoring = 'r2', return_train_score = True)\n",
    "resultado_rmse"
   ]
  },
  {
   "cell_type": "code",
   "execution_count": 395,
   "id": "f0ab9ebf",
   "metadata": {},
   "outputs": [
    {
     "data": {
      "text/plain": [
       "0.11807865482564472"
      ]
     },
     "execution_count": 395,
     "metadata": {},
     "output_type": "execute_result"
    }
   ],
   "source": [
    "-resultado_rmse['test_score'].mean()"
   ]
  },
  {
   "cell_type": "code",
   "execution_count": 396,
   "id": "e9cfa4b4",
   "metadata": {},
   "outputs": [
    {
     "data": {
      "text/plain": [
       "0.539276976231443"
      ]
     },
     "execution_count": 396,
     "metadata": {},
     "output_type": "execute_result"
    }
   ],
   "source": [
    "resultado_r2['test_score'].mean()"
   ]
  },
  {
   "cell_type": "markdown",
   "id": "fddbfa3a",
   "metadata": {},
   "source": [
    "## Criacao do modelo base"
   ]
  },
  {
   "cell_type": "code",
   "execution_count": 397,
   "id": "d84734b0",
   "metadata": {},
   "outputs": [],
   "source": [
    "#separa em dados de treino e teste para plotar os residuos\n",
    "seed=7\n",
    "\n",
    "X_treino,X_teste,Y_treino,Y_teste = train_test_split(X,Y, test_size = 0.2, random_state = seed)\n",
    "\n",
    "# Criação do modelo\n",
    "modelo = LinearRegression()\n",
    "\n",
    "# Treinamento do modelo\n",
    "modelo.fit(X_treino, Y_treino)\n",
    "\n",
    "# Score do modelo nos dados de teste\n",
    "result = modelo.predict(X_teste)\n",
    "\n",
    "df_result = pd.DataFrame(data= result.flatten(), columns =['Previsto'])\n",
    "df_result['Actual'] = Y_teste.values\n",
    "df_result['Residuo'] = df_result.Actual - df_result.Previsto\n",
    "df_result['IdadeV1'] = X_teste.idade_V1.values"
   ]
  },
  {
   "cell_type": "code",
   "execution_count": 398,
   "id": "e786071a",
   "metadata": {},
   "outputs": [
    {
     "data": {
      "text/plain": [
       "<AxesSubplot:>"
      ]
     },
     "execution_count": 398,
     "metadata": {},
     "output_type": "execute_result"
    },
    {
     "data": {
      "image/png": "[encoded data removed]",
      "text/plain": [
       "<Figure size 432x288 with 1 Axes>"
      ]
     },
     "metadata": {
      "needs_background": "light"
     },
     "output_type": "display_data"
    }
   ],
   "source": [
    "#histograma dos residuos\n",
    "df_result.Residuo.hist()"
   ]
  },
  {
   "cell_type": "code",
   "execution_count": 399,
   "id": "fcc06afa",
   "metadata": {},
   "outputs": [
    {
     "data": {
      "text/plain": [
       "<AxesSubplot:xlabel='Previsto', ylabel='Residuo'>"
      ]
     },
     "execution_count": 399,
     "metadata": {},
     "output_type": "execute_result"
    },
    {
     "data": {
      "image/png": "[encoded data removed]",
      "text/plain": [
       "<Figure size 432x288 with 1 Axes>"
      ]
     },
     "metadata": {
      "needs_background": "light"
     },
     "output_type": "display_data"
    }
   ],
   "source": [
    "#Residuo vs fitted\n",
    "df_result.plot(kind='scatter', y='Residuo', x='Previsto')"
   ]
  },
  {
   "cell_type": "code",
   "execution_count": 400,
   "id": "40fcb0ce",
   "metadata": {},
   "outputs": [
    {
     "name": "stderr",
     "output_type": "stream",
     "text": [
      "C:\\Users\\stefanno.ruiz.manni\\Anaconda3\\envs\\neoway\\lib\\site-packages\\statsmodels\\graphics\\gofplots.py:993: UserWarning: marker is redundantly defined by the 'marker' keyword argument and the fmt string \"bo\" (-> marker='o'). The keyword argument will take precedence.\n",
      "  ax.plot(x, y, fmt, **plot_style)\n"
     ]
    },
    {
     "data": {
      "image/png": "[encoded data removed]",
      "text/plain": [
       "<Figure size 432x288 with 1 Axes>"
      ]
     },
     "metadata": {
      "needs_background": "light"
     },
     "output_type": "display_data"
    }
   ],
   "source": [
    "qqplot(df_result.Residuo, line='s')\n",
    "plt.show()"
   ]
  },
  {
   "cell_type": "markdown",
   "id": "83d5f3b3",
   "metadata": {},
   "source": [
    "O primeiro modelo base construido possui um baixo R2, o que mostra um baixo pode explicativo do modelo. Assim sera criado novos modelos com novos algoritmos afim de aumentar o poder explicativo do modelo e inferir a influencia das variaveis explicativas na taxa de transmissao do virus.\n",
    "\n",
    "Alem disso temos o RMSE medio nos folds de 0.02, o que nos da um baseline para a medida da raiz quadrada do erro medio\n",
    "\n",
    "A analise dos residuos nos mostram que os erros possuem uma distribuicao normal (Q-Q plot e histograma dos residuos), porem ao olharmos o residuo em relacao ao previsto percebemos que o modelo tende a errar para cima nas menores taxas de transmissao"
   ]
  },
  {
   "cell_type": "markdown",
   "id": "5d771d7c",
   "metadata": {},
   "source": [
    "# Modelo com GradientBoosting"
   ]
  },
  {
   "cell_type": "code",
   "execution_count": 401,
   "id": "67daa735",
   "metadata": {},
   "outputs": [
    {
     "name": "stderr",
     "output_type": "stream",
     "text": [
      "C:\\Users\\stefanno.ruiz.manni\\Anaconda3\\envs\\neoway\\lib\\site-packages\\sklearn\\utils\\validation.py:63: DataConversionWarning: A column-vector y was passed when a 1d array was expected. Please change the shape of y to (n_samples, ), for example using ravel().\n",
      "  return f(*args, **kwargs)\n"
     ]
    },
    {
     "name": "stdout",
     "output_type": "stream",
     "text": [
      "      Iter       Train Loss   Remaining Time \n",
      "         1           0.0285            1.22m\n",
      "         2           0.0270            1.14m\n",
      "         3           0.0258            1.07m\n",
      "         4           0.0248            1.05m\n",
      "         5           0.0240            1.10m\n",
      "         6           0.0232            1.19m\n",
      "         7           0.0225            1.21m\n",
      "         8           0.0219            1.22m\n",
      "         9           0.0214            1.18m\n",
      "        10           0.0209            1.15m\n",
      "        20           0.0164           59.08s\n",
      "        30           0.0138           50.13s\n",
      "        40           0.0124           44.21s\n",
      "        50           0.0115           37.38s\n",
      "        60           0.0107           30.84s\n",
      "        70           0.0104           22.95s\n",
      "        80           0.0102           15.47s\n",
      "        90           0.0099            7.85s\n",
      "       100           0.0097            0.00s\n"
     ]
    },
    {
     "name": "stderr",
     "output_type": "stream",
     "text": [
      "C:\\Users\\stefanno.ruiz.manni\\Anaconda3\\envs\\neoway\\lib\\site-packages\\sklearn\\utils\\validation.py:63: DataConversionWarning: A column-vector y was passed when a 1d array was expected. Please change the shape of y to (n_samples, ), for example using ravel().\n",
      "  return f(*args, **kwargs)\n"
     ]
    },
    {
     "name": "stdout",
     "output_type": "stream",
     "text": [
      "      Iter       Train Loss   Remaining Time \n",
      "         1           0.0285            1.16m\n",
      "         2           0.0270            1.13m\n",
      "         3           0.0258            1.09m\n",
      "         4           0.0248            1.11m\n",
      "         5           0.0239            1.08m\n",
      "         6           0.0232            1.07m\n",
      "         7           0.0225            1.11m\n",
      "         8           0.0219            1.21m\n",
      "         9           0.0214            1.19m\n",
      "        10           0.0209            1.20m\n",
      "        20           0.0170            1.09m\n",
      "        30           0.0139           54.52s\n",
      "        40           0.0125           46.48s\n",
      "        50           0.0116           37.58s\n",
      "        60           0.0109           29.08s\n",
      "        70           0.0106           21.94s\n",
      "        80           0.0103           14.46s\n",
      "        90           0.0100            7.24s\n",
      "       100           0.0099            0.00s\n"
     ]
    },
    {
     "name": "stderr",
     "output_type": "stream",
     "text": [
      "C:\\Users\\stefanno.ruiz.manni\\Anaconda3\\envs\\neoway\\lib\\site-packages\\sklearn\\utils\\validation.py:63: DataConversionWarning: A column-vector y was passed when a 1d array was expected. Please change the shape of y to (n_samples, ), for example using ravel().\n",
      "  return f(*args, **kwargs)\n"
     ]
    },
    {
     "name": "stdout",
     "output_type": "stream",
     "text": [
      "      Iter       Train Loss   Remaining Time \n",
      "         1           0.0285            1.09m\n",
      "         2           0.0270            1.05m\n",
      "         3           0.0258            1.06m\n",
      "         4           0.0248            1.02m\n",
      "         5           0.0240            1.00m\n",
      "         6           0.0232            1.04m\n",
      "         7           0.0225            1.02m\n",
      "         8           0.0219           59.64s\n",
      "         9           0.0214           58.19s\n",
      "        10           0.0209           57.00s\n",
      "        20           0.0164           49.01s\n",
      "        30           0.0140           42.32s\n",
      "        40           0.0129           36.02s\n",
      "        50           0.0120           30.02s\n",
      "        60           0.0116           23.98s\n",
      "        70           0.0112           18.19s\n",
      "        80           0.0107           12.12s\n",
      "        90           0.0104            6.04s\n",
      "       100           0.0101            0.00s\n"
     ]
    },
    {
     "name": "stderr",
     "output_type": "stream",
     "text": [
      "C:\\Users\\stefanno.ruiz.manni\\Anaconda3\\envs\\neoway\\lib\\site-packages\\sklearn\\utils\\validation.py:63: DataConversionWarning: A column-vector y was passed when a 1d array was expected. Please change the shape of y to (n_samples, ), for example using ravel().\n",
      "  return f(*args, **kwargs)\n"
     ]
    },
    {
     "name": "stdout",
     "output_type": "stream",
     "text": [
      "      Iter       Train Loss   Remaining Time \n",
      "         1           0.0285           57.56s\n",
      "         2           0.0271           58.64s\n",
      "         3           0.0259           57.43s\n",
      "         4           0.0248           57.04s\n",
      "         5           0.0240           56.83s\n",
      "         6           0.0232           59.33s\n",
      "         7           0.0225           57.93s\n",
      "         8           0.0219           57.54s\n",
      "         9           0.0214           58.94s\n",
      "        10           0.0209           59.85s\n",
      "        20           0.0170           51.73s\n",
      "        30           0.0147           43.83s\n",
      "        40           0.0128           37.13s\n",
      "        50           0.0121           30.65s\n",
      "        60           0.0114           24.98s\n",
      "        70           0.0110           18.91s\n",
      "        80           0.0108           12.82s\n",
      "        90           0.0104            6.38s\n",
      "       100           0.0102            0.00s\n"
     ]
    },
    {
     "name": "stderr",
     "output_type": "stream",
     "text": [
      "C:\\Users\\stefanno.ruiz.manni\\Anaconda3\\envs\\neoway\\lib\\site-packages\\sklearn\\utils\\validation.py:63: DataConversionWarning: A column-vector y was passed when a 1d array was expected. Please change the shape of y to (n_samples, ), for example using ravel().\n",
      "  return f(*args, **kwargs)\n"
     ]
    },
    {
     "name": "stdout",
     "output_type": "stream",
     "text": [
      "      Iter       Train Loss   Remaining Time \n",
      "         1           0.0285            1.13m\n",
      "         2           0.0271            1.04m\n",
      "         3           0.0259            1.01m\n",
      "         4           0.0248           58.74s\n",
      "         5           0.0240           59.67s\n",
      "         6           0.0232           58.20s\n",
      "         7           0.0225           56.88s\n",
      "         8           0.0219           55.78s\n",
      "         9           0.0214           54.75s\n",
      "        10           0.0209           53.95s\n",
      "        20           0.0165           47.30s\n",
      "        30           0.0142           41.32s\n",
      "        40           0.0131           35.49s\n",
      "        50           0.0121           29.56s\n",
      "        60           0.0111           23.62s\n",
      "        70           0.0106           17.98s\n",
      "        80           0.0103           12.21s\n",
      "        90           0.0101            6.10s\n",
      "       100           0.0099            0.00s\n"
     ]
    },
    {
     "name": "stderr",
     "output_type": "stream",
     "text": [
      "C:\\Users\\stefanno.ruiz.manni\\Anaconda3\\envs\\neoway\\lib\\site-packages\\sklearn\\utils\\validation.py:63: DataConversionWarning: A column-vector y was passed when a 1d array was expected. Please change the shape of y to (n_samples, ), for example using ravel().\n",
      "  return f(*args, **kwargs)\n"
     ]
    },
    {
     "name": "stdout",
     "output_type": "stream",
     "text": [
      "      Iter       Train Loss   Remaining Time \n",
      "         1           0.0285           58.95s\n",
      "         2           0.0270           58.20s\n",
      "         3           0.0258           57.24s\n",
      "         4           0.0248           56.25s\n",
      "         5           0.0240           55.64s\n",
      "         6           0.0232           55.30s\n",
      "         7           0.0225           54.64s\n",
      "         8           0.0219           54.46s\n",
      "         9           0.0214           54.02s\n",
      "        10           0.0209           53.93s\n",
      "        20           0.0164           48.25s\n",
      "        30           0.0138           42.22s\n",
      "        40           0.0124           36.46s\n",
      "        50           0.0115           31.31s\n",
      "        60           0.0107           25.52s\n",
      "        70           0.0104           19.91s\n",
      "        80           0.0102           13.10s\n",
      "        90           0.0099            6.48s\n",
      "       100           0.0097            0.00s\n"
     ]
    },
    {
     "name": "stderr",
     "output_type": "stream",
     "text": [
      "C:\\Users\\stefanno.ruiz.manni\\Anaconda3\\envs\\neoway\\lib\\site-packages\\sklearn\\utils\\validation.py:63: DataConversionWarning: A column-vector y was passed when a 1d array was expected. Please change the shape of y to (n_samples, ), for example using ravel().\n",
      "  return f(*args, **kwargs)\n"
     ]
    },
    {
     "name": "stdout",
     "output_type": "stream",
     "text": [
      "      Iter       Train Loss   Remaining Time \n",
      "         1           0.0285            1.02m\n",
      "         2           0.0270            1.01m\n",
      "         3           0.0258           59.50s\n",
      "         4           0.0248           58.79s\n",
      "         5           0.0239           57.61s\n",
      "         6           0.0232           57.91s\n",
      "         7           0.0225           56.90s\n",
      "         8           0.0219           56.12s\n",
      "         9           0.0214           55.15s\n",
      "        10           0.0209           54.42s\n",
      "        20           0.0170           48.87s\n",
      "        30           0.0139           45.72s\n",
      "        40           0.0125           39.34s\n",
      "        50           0.0116           32.84s\n",
      "        60           0.0109           26.22s\n",
      "        70           0.0106           19.69s\n",
      "        80           0.0103           13.24s\n",
      "        90           0.0100            6.74s\n",
      "       100           0.0099            0.00s\n"
     ]
    },
    {
     "name": "stderr",
     "output_type": "stream",
     "text": [
      "C:\\Users\\stefanno.ruiz.manni\\Anaconda3\\envs\\neoway\\lib\\site-packages\\sklearn\\utils\\validation.py:63: DataConversionWarning: A column-vector y was passed when a 1d array was expected. Please change the shape of y to (n_samples, ), for example using ravel().\n",
      "  return f(*args, **kwargs)\n"
     ]
    },
    {
     "name": "stdout",
     "output_type": "stream",
     "text": [
      "      Iter       Train Loss   Remaining Time \n",
      "         1           0.0285            1.10m\n",
      "         2           0.0270            1.26m\n",
      "         3           0.0258            1.17m\n",
      "         4           0.0248            1.15m\n",
      "         5           0.0240            1.11m\n",
      "         6           0.0232            1.14m\n",
      "         7           0.0225            1.10m\n",
      "         8           0.0219            1.08m\n",
      "         9           0.0214            1.08m\n",
      "        10           0.0209            1.06m\n",
      "        20           0.0164           55.24s\n",
      "        30           0.0140           49.46s\n",
      "        40           0.0129           41.94s\n",
      "        50           0.0120           34.45s\n",
      "        60           0.0116           27.14s\n",
      "        70           0.0112           20.02s\n",
      "        80           0.0107           13.18s\n",
      "        90           0.0104            6.57s\n",
      "       100           0.0101            0.00s\n"
     ]
    },
    {
     "name": "stderr",
     "output_type": "stream",
     "text": [
      "C:\\Users\\stefanno.ruiz.manni\\Anaconda3\\envs\\neoway\\lib\\site-packages\\sklearn\\utils\\validation.py:63: DataConversionWarning: A column-vector y was passed when a 1d array was expected. Please change the shape of y to (n_samples, ), for example using ravel().\n",
      "  return f(*args, **kwargs)\n"
     ]
    },
    {
     "name": "stdout",
     "output_type": "stream",
     "text": [
      "      Iter       Train Loss   Remaining Time \n",
      "         1           0.0285           56.88s\n",
      "         2           0.0271           56.25s\n",
      "         3           0.0259           57.98s\n",
      "         4           0.0248           57.28s\n",
      "         5           0.0240           58.78s\n",
      "         6           0.0232           59.41s\n",
      "         7           0.0225           58.28s\n",
      "         8           0.0219           58.06s\n",
      "         9           0.0214           56.87s\n",
      "        10           0.0209           56.16s\n",
      "        20           0.0170           51.62s\n",
      "        30           0.0147           45.20s\n",
      "        40           0.0128           38.53s\n",
      "        50           0.0121           31.95s\n",
      "        60           0.0114           25.43s\n",
      "        70           0.0110           19.05s\n",
      "        80           0.0108           12.60s\n",
      "        90           0.0104            6.26s\n",
      "       100           0.0102            0.00s\n"
     ]
    },
    {
     "name": "stderr",
     "output_type": "stream",
     "text": [
      "C:\\Users\\stefanno.ruiz.manni\\Anaconda3\\envs\\neoway\\lib\\site-packages\\sklearn\\utils\\validation.py:63: DataConversionWarning: A column-vector y was passed when a 1d array was expected. Please change the shape of y to (n_samples, ), for example using ravel().\n",
      "  return f(*args, **kwargs)\n"
     ]
    },
    {
     "name": "stdout",
     "output_type": "stream",
     "text": [
      "      Iter       Train Loss   Remaining Time \n",
      "         1           0.0285            1.20m\n",
      "         2           0.0271            1.12m\n",
      "         3           0.0259            1.13m\n",
      "         4           0.0248            1.08m\n",
      "         5           0.0240            1.07m\n",
      "         6           0.0232            1.07m\n",
      "         7           0.0225            1.05m\n",
      "         8           0.0219            1.06m\n",
      "         9           0.0214            1.04m\n",
      "        10           0.0209            1.03m\n",
      "        20           0.0165           54.12s\n",
      "        30           0.0142           47.68s\n",
      "        40           0.0131           40.44s\n",
      "        50           0.0121           33.75s\n",
      "        60           0.0111           27.22s\n",
      "        70           0.0106           20.31s\n",
      "        80           0.0103           13.39s\n",
      "        90           0.0101            6.61s\n",
      "       100           0.0099            0.00s\n"
     ]
    },
    {
     "data": {
      "text/plain": [
       "{'fit_time': array([78.08856034, 71.26114655, 60.33237028, 63.46139336, 61.30447745]),\n",
       " 'score_time': array([0.21542358, 0.1705451 , 0.15758014, 0.15558434, 0.21243334]),\n",
       " 'test_score': array([-0.09846571, -0.09984486, -0.10051509, -0.10056068, -0.0994241 ]),\n",
       " 'train_score': array([-0.09827041, -0.09954512, -0.10057855, -0.10080649, -0.09943346])}"
      ]
     },
     "execution_count": 401,
     "metadata": {},
     "output_type": "execute_result"
    }
   ],
   "source": [
    "#definindo X e Y\n",
    "\n",
    "Y = df_populacao.filter(['prob_V1_V2']).values\n",
    "\n",
    "#x contendo todas as variaveis e excluindo as dummies redundantes (estado_civil_solteiro, tranporte_publico e visita rara)\n",
    "X = df_populacao.filter(vars_selected_manual).values\n",
    "\n",
    "\n",
    "# Definindo os valores para o número de folds\n",
    "num_folds = 5\n",
    "seed = 7\n",
    "\n",
    "# Separando os dados em folds\n",
    "kfold = KFold(num_folds, shuffle = True, random_state = seed)\n",
    "\n",
    "# Criando o modelo\n",
    "modelo = GradientBoostingRegressor(random_state=0, criterion = 'mse', verbose = True)\n",
    "\n",
    "# Cross Validation\n",
    "resultado_rmse = cross_validate(modelo, X, Y, cv = kfold, scoring = 'neg_root_mean_squared_error', return_train_score = True)\n",
    "resultado_r2 = cross_validate(modelo, X, Y, cv = kfold, scoring = 'r2', return_train_score = True)\n",
    "resultado_rmse"
   ]
  },
  {
   "cell_type": "code",
   "execution_count": 402,
   "id": "64e5d1a6",
   "metadata": {},
   "outputs": [
    {
     "data": {
      "text/plain": [
       "0.09976208917351133"
      ]
     },
     "execution_count": 402,
     "metadata": {},
     "output_type": "execute_result"
    }
   ],
   "source": [
    "-resultado_rmse['test_score'].mean()"
   ]
  },
  {
   "cell_type": "code",
   "execution_count": 403,
   "id": "3f58d7b0",
   "metadata": {},
   "outputs": [
    {
     "data": {
      "text/plain": [
       "0.6711042853883056"
      ]
     },
     "execution_count": 403,
     "metadata": {},
     "output_type": "execute_result"
    }
   ],
   "source": [
    "resultado_r2['test_score'].mean()"
   ]
  },
  {
   "cell_type": "code",
   "execution_count": 408,
   "id": "b808c3c6",
   "metadata": {},
   "outputs": [
    {
     "name": "stderr",
     "output_type": "stream",
     "text": [
      "C:\\Users\\stefanno.ruiz.manni\\Anaconda3\\envs\\neoway\\lib\\site-packages\\sklearn\\utils\\validation.py:63: DataConversionWarning: A column-vector y was passed when a 1d array was expected. Please change the shape of y to (n_samples, ), for example using ravel().\n",
      "  return f(*args, **kwargs)\n"
     ]
    },
    {
     "name": "stdout",
     "output_type": "stream",
     "text": [
      "      Iter       Train Loss   Remaining Time \n",
      "         1           0.0285           57.27s\n",
      "         2           0.0270           55.76s\n",
      "         3           0.0258           55.24s\n",
      "         4           0.0248           54.67s\n",
      "         5           0.0240           54.84s\n",
      "         6           0.0232           55.00s\n",
      "         7           0.0225           54.14s\n",
      "         8           0.0219           53.24s\n",
      "         9           0.0214           52.53s\n",
      "        10           0.0209           51.92s\n",
      "        20           0.0164           46.20s\n",
      "        30           0.0138           42.55s\n",
      "        40           0.0124           36.49s\n",
      "        50           0.0115           30.15s\n",
      "        60           0.0107           24.16s\n",
      "        70           0.0104           18.37s\n",
      "        80           0.0102           12.26s\n",
      "        90           0.0099            6.11s\n",
      "       100           0.0097            0.00s\n"
     ]
    }
   ],
   "source": [
    "#separa em dados de treino e teste para plotar os residuos\n",
    "seed=7\n",
    "\n",
    "X_treino,X_teste,Y_treino,Y_teste = train_test_split(X,Y, test_size = 0.2, random_state = seed)\n",
    "\n",
    "# Criação do modelo\n",
    "modelo = GradientBoostingRegressor(random_state=0, criterion = 'mse', verbose = True)\n",
    "\n",
    "# Treinamento do modelo\n",
    "modelo.fit(X_treino, Y_treino)\n",
    "\n",
    "# Score do modelo nos dados de teste\n",
    "result = modelo.predict(X_teste)\n",
    "\n",
    "df_result = pd.DataFrame(data= result.flatten(), columns =['Previsto'])\n",
    "df_result['Actual'] = Y_teste\n",
    "df_result['Residuo'] = df_result.Actual - df_result.Previsto"
   ]
  },
  {
   "cell_type": "code",
   "execution_count": 409,
   "id": "45dd38e6",
   "metadata": {},
   "outputs": [
    {
     "data": {
      "text/plain": [
       "<AxesSubplot:>"
      ]
     },
     "execution_count": 409,
     "metadata": {},
     "output_type": "execute_result"
    },
    {
     "data": {
      "image/png": "[encoded data removed]",
      "text/plain": [
       "<Figure size 432x288 with 1 Axes>"
      ]
     },
     "metadata": {
      "needs_background": "light"
     },
     "output_type": "display_data"
    }
   ],
   "source": [
    "#histograma dos residuos\n",
    "df_result.Residuo.hist()"
   ]
  },
  {
   "cell_type": "code",
   "execution_count": 410,
   "id": "4c6cc650",
   "metadata": {},
   "outputs": [
    {
     "data": {
      "text/plain": [
       "<AxesSubplot:xlabel='Previsto', ylabel='Residuo'>"
      ]
     },
     "execution_count": 410,
     "metadata": {},
     "output_type": "execute_result"
    },
    {
     "data": {
      "image/png": "[encoded data removed]",
      "text/plain": [
       "<Figure size 432x288 with 1 Axes>"
      ]
     },
     "metadata": {
      "needs_background": "light"
     },
     "output_type": "display_data"
    }
   ],
   "source": [
    "#Residuo vs fitted\n",
    "df_result.plot(kind='scatter', y='Residuo', x='Previsto')"
   ]
  },
  {
   "cell_type": "markdown",
   "id": "d0d11741",
   "metadata": {},
   "source": [
    "O gradiente boosting apresentou resultados consideravelmente melhores que a regressao linear e sera utilizado para previsao das taxas de contaminacao.\n",
    "\n",
    "Podemos utilizar o feature importances para determinar quais politicas de saude deverao ser priorizadas e utilizamos os coeficientes do lasso para entender se a variavel atua positivamente ou negativamente sobre a taxa de transmissao."
   ]
  },
  {
   "cell_type": "markdown",
   "id": "1a8d670f",
   "metadata": {},
   "source": [
    "# Sugestoes Politicas"
   ]
  },
  {
   "cell_type": "code",
   "execution_count": 411,
   "id": "7322d03b",
   "metadata": {},
   "outputs": [
    {
     "data": {
      "text/html": [
       "<div>\n",
       "<style scoped>\n",
       "    .dataframe tbody tr th:only-of-type {\n",
       "        vertical-align: middle;\n",
       "    }\n",
       "\n",
       "    .dataframe tbody tr th {\n",
       "        vertical-align: top;\n",
       "    }\n",
       "\n",
       "    .dataframe thead th {\n",
       "        text-align: right;\n",
       "    }\n",
       "</style>\n",
       "<table border=\"1\" class=\"dataframe\">\n",
       "  <thead>\n",
       "    <tr style=\"text-align: right;\">\n",
       "      <th></th>\n",
       "      <th>var</th>\n",
       "      <th>coef</th>\n",
       "    </tr>\n",
       "  </thead>\n",
       "  <tbody>\n",
       "    <tr>\n",
       "      <th>0</th>\n",
       "      <td>idade_V1</td>\n",
       "      <td>-0.024504</td>\n",
       "    </tr>\n",
       "    <tr>\n",
       "      <th>2</th>\n",
       "      <td>estuda_V1</td>\n",
       "      <td>0.030840</td>\n",
       "    </tr>\n",
       "    <tr>\n",
       "      <th>3</th>\n",
       "      <td>pratica_esportes_V1</td>\n",
       "      <td>0.110566</td>\n",
       "    </tr>\n",
       "    <tr>\n",
       "      <th>11</th>\n",
       "      <td>transporte_V1_publico</td>\n",
       "      <td>0.017752</td>\n",
       "    </tr>\n",
       "    <tr>\n",
       "      <th>12</th>\n",
       "      <td>transporte_V1_taxi</td>\n",
       "      <td>-0.039395</td>\n",
       "    </tr>\n",
       "  </tbody>\n",
       "</table>\n",
       "</div>"
      ],
      "text/plain": [
       "                      var      coef\n",
       "0                idade_V1 -0.024504\n",
       "2               estuda_V1  0.030840\n",
       "3     pratica_esportes_V1  0.110566\n",
       "11  transporte_V1_publico  0.017752\n",
       "12     transporte_V1_taxi -0.039395"
      ]
     },
     "execution_count": 411,
     "metadata": {},
     "output_type": "execute_result"
    }
   ],
   "source": [
    "coeficientes.head()"
   ]
  },
  {
   "cell_type": "code",
   "execution_count": 412,
   "id": "e04c3612",
   "metadata": {},
   "outputs": [],
   "source": [
    "importances = pd.DataFrame({'variavel': vars_selected_manual, 'importances' : modelo.feature_importances_})"
   ]
  },
  {
   "cell_type": "code",
   "execution_count": 413,
   "id": "e91e068e",
   "metadata": {},
   "outputs": [],
   "source": [
    "importances = importances.merge(coeficientes, how = 'inner', left_on = 'variavel', right_on = 'var')"
   ]
  },
  {
   "cell_type": "code",
   "execution_count": 414,
   "id": "d5e6d21d",
   "metadata": {},
   "outputs": [
    {
     "data": {
      "text/html": [
       "<div>\n",
       "<style scoped>\n",
       "    .dataframe tbody tr th:only-of-type {\n",
       "        vertical-align: middle;\n",
       "    }\n",
       "\n",
       "    .dataframe tbody tr th {\n",
       "        vertical-align: top;\n",
       "    }\n",
       "\n",
       "    .dataframe thead th {\n",
       "        text-align: right;\n",
       "    }\n",
       "</style>\n",
       "<table border=\"1\" class=\"dataframe\">\n",
       "  <thead>\n",
       "    <tr style=\"text-align: right;\">\n",
       "      <th></th>\n",
       "      <th>variavel</th>\n",
       "      <th>importances</th>\n",
       "      <th>coef_lasso</th>\n",
       "    </tr>\n",
       "  </thead>\n",
       "  <tbody>\n",
       "    <tr>\n",
       "      <th>3</th>\n",
       "      <td>transporte_V1_publico</td>\n",
       "      <td>0.192293</td>\n",
       "      <td>1.775163e-02</td>\n",
       "    </tr>\n",
       "    <tr>\n",
       "      <th>15</th>\n",
       "      <td>gp_familia_visita_rara</td>\n",
       "      <td>0.186143</td>\n",
       "      <td>-1.627727e-01</td>\n",
       "    </tr>\n",
       "    <tr>\n",
       "      <th>2</th>\n",
       "      <td>pratica_esportes_V1</td>\n",
       "      <td>0.138089</td>\n",
       "      <td>1.105659e-01</td>\n",
       "    </tr>\n",
       "    <tr>\n",
       "      <th>8</th>\n",
       "      <td>trasnporte_V2_particular</td>\n",
       "      <td>0.109692</td>\n",
       "      <td>7.456570e-02</td>\n",
       "    </tr>\n",
       "    <tr>\n",
       "      <th>13</th>\n",
       "      <td>gp_familia_visita_casual</td>\n",
       "      <td>0.097517</td>\n",
       "      <td>8.662029e-02</td>\n",
       "    </tr>\n",
       "    <tr>\n",
       "      <th>12</th>\n",
       "      <td>gp_familia_mora_junto</td>\n",
       "      <td>0.047636</td>\n",
       "      <td>-6.334766e-02</td>\n",
       "    </tr>\n",
       "    <tr>\n",
       "      <th>7</th>\n",
       "      <td>estado_civil_V1_viuvo</td>\n",
       "      <td>0.046633</td>\n",
       "      <td>-9.238012e-02</td>\n",
       "    </tr>\n",
       "    <tr>\n",
       "      <th>14</th>\n",
       "      <td>gp_familia_visita_frequente</td>\n",
       "      <td>0.041170</td>\n",
       "      <td>-9.891692e-02</td>\n",
       "    </tr>\n",
       "    <tr>\n",
       "      <th>6</th>\n",
       "      <td>estado_civil_V1_solteiro</td>\n",
       "      <td>0.037710</td>\n",
       "      <td>-1.664055e-02</td>\n",
       "    </tr>\n",
       "    <tr>\n",
       "      <th>4</th>\n",
       "      <td>transporte_V1_taxi</td>\n",
       "      <td>0.020669</td>\n",
       "      <td>-3.939510e-02</td>\n",
       "    </tr>\n",
       "    <tr>\n",
       "      <th>9</th>\n",
       "      <td>gp_amigos_visita_casual</td>\n",
       "      <td>0.018872</td>\n",
       "      <td>6.371771e-04</td>\n",
       "    </tr>\n",
       "    <tr>\n",
       "      <th>10</th>\n",
       "      <td>gp_amigos_visita_frequente</td>\n",
       "      <td>0.016186</td>\n",
       "      <td>6.326522e-02</td>\n",
       "    </tr>\n",
       "    <tr>\n",
       "      <th>0</th>\n",
       "      <td>idade_V1</td>\n",
       "      <td>0.011661</td>\n",
       "      <td>-2.450436e-02</td>\n",
       "    </tr>\n",
       "    <tr>\n",
       "      <th>5</th>\n",
       "      <td>estado_civil_V1_casado</td>\n",
       "      <td>0.009297</td>\n",
       "      <td>3.509953e-02</td>\n",
       "    </tr>\n",
       "    <tr>\n",
       "      <th>19</th>\n",
       "      <td>gp_trabalho_visita_rara</td>\n",
       "      <td>0.009258</td>\n",
       "      <td>3.421477e-02</td>\n",
       "    </tr>\n",
       "    <tr>\n",
       "      <th>1</th>\n",
       "      <td>estuda_V1</td>\n",
       "      <td>0.008458</td>\n",
       "      <td>3.084000e-02</td>\n",
       "    </tr>\n",
       "    <tr>\n",
       "      <th>16</th>\n",
       "      <td>gp_trabalho_mora_junto</td>\n",
       "      <td>0.004045</td>\n",
       "      <td>2.006941e-02</td>\n",
       "    </tr>\n",
       "    <tr>\n",
       "      <th>17</th>\n",
       "      <td>gp_trabalho_visita_casual</td>\n",
       "      <td>0.003792</td>\n",
       "      <td>-2.583664e-02</td>\n",
       "    </tr>\n",
       "    <tr>\n",
       "      <th>18</th>\n",
       "      <td>gp_trabalho_visita_frequente</td>\n",
       "      <td>0.000852</td>\n",
       "      <td>6.324968e-03</td>\n",
       "    </tr>\n",
       "    <tr>\n",
       "      <th>11</th>\n",
       "      <td>gp_amigos_visita_rara</td>\n",
       "      <td>0.000027</td>\n",
       "      <td>-1.446522e-08</td>\n",
       "    </tr>\n",
       "  </tbody>\n",
       "</table>\n",
       "</div>"
      ],
      "text/plain": [
       "                        variavel  importances    coef_lasso\n",
       "3          transporte_V1_publico     0.192293  1.775163e-02\n",
       "15        gp_familia_visita_rara     0.186143 -1.627727e-01\n",
       "2            pratica_esportes_V1     0.138089  1.105659e-01\n",
       "8       trasnporte_V2_particular     0.109692  7.456570e-02\n",
       "13      gp_familia_visita_casual     0.097517  8.662029e-02\n",
       "12         gp_familia_mora_junto     0.047636 -6.334766e-02\n",
       "7          estado_civil_V1_viuvo     0.046633 -9.238012e-02\n",
       "14   gp_familia_visita_frequente     0.041170 -9.891692e-02\n",
       "6       estado_civil_V1_solteiro     0.037710 -1.664055e-02\n",
       "4             transporte_V1_taxi     0.020669 -3.939510e-02\n",
       "9        gp_amigos_visita_casual     0.018872  6.371771e-04\n",
       "10    gp_amigos_visita_frequente     0.016186  6.326522e-02\n",
       "0                       idade_V1     0.011661 -2.450436e-02\n",
       "5         estado_civil_V1_casado     0.009297  3.509953e-02\n",
       "19       gp_trabalho_visita_rara     0.009258  3.421477e-02\n",
       "1                      estuda_V1     0.008458  3.084000e-02\n",
       "16        gp_trabalho_mora_junto     0.004045  2.006941e-02\n",
       "17     gp_trabalho_visita_casual     0.003792 -2.583664e-02\n",
       "18  gp_trabalho_visita_frequente     0.000852  6.324968e-03\n",
       "11         gp_amigos_visita_rara     0.000027 -1.446522e-08"
      ]
     },
     "execution_count": 414,
     "metadata": {},
     "output_type": "execute_result"
    }
   ],
   "source": [
    "importances[['variavel','importances','coef']].sort_values(by='importances', ascending = False).rename(columns = {'coef':'coef_lasso'})"
   ]
  },
  {
   "cell_type": "markdown",
   "id": "d17877ec",
   "metadata": {},
   "source": [
    "# Prevendo para o restante da populacao"
   ]
  },
  {
   "cell_type": "code",
   "execution_count": 415,
   "id": "9efb29be",
   "metadata": {},
   "outputs": [
    {
     "name": "stderr",
     "output_type": "stream",
     "text": [
      "C:\\Users\\stefanno.ruiz.manni\\Anaconda3\\envs\\neoway\\lib\\site-packages\\pandas\\core\\frame.py:3607: SettingWithCopyWarning: \n",
      "A value is trying to be set on a copy of a slice from a DataFrame.\n",
      "Try using .loc[row_indexer,col_indexer] = value instead\n",
      "\n",
      "See the caveats in the documentation: https://pandas.pydata.org/pandas-docs/stable/user_guide/indexing.html#returning-a-view-versus-a-copy\n",
      "  self._set_item(key, value)\n"
     ]
    }
   ],
   "source": [
    "#x contendo todas as variaveis e excluindo as dummies redundantes (estado_civil_solteiro, tranporte_publico e visita rara)\n",
    "X_to_predict = df_to_predict.filter(vars_selected_manual).values\n",
    "\n",
    "previsoes =  modelo.predict(X_to_predict)\n",
    "\n",
    "#adiciona previsoes no data frame a ser previsto e salva csv\n",
    "conexoes_to_predict = conexoes[conexoes['prob_V1_V2'].isnull()]\n",
    "\n",
    "conexoes_to_predict['PROB_PREVISTO'] = previsoes"
   ]
  },
  {
   "cell_type": "code",
   "execution_count": 416,
   "id": "a3a7bf3f",
   "metadata": {},
   "outputs": [
    {
     "data": {
      "text/html": [
       "<div>\n",
       "<style scoped>\n",
       "    .dataframe tbody tr th:only-of-type {\n",
       "        vertical-align: middle;\n",
       "    }\n",
       "\n",
       "    .dataframe tbody tr th {\n",
       "        vertical-align: top;\n",
       "    }\n",
       "\n",
       "    .dataframe thead th {\n",
       "        text-align: right;\n",
       "    }\n",
       "</style>\n",
       "<table border=\"1\" class=\"dataframe\">\n",
       "  <thead>\n",
       "    <tr style=\"text-align: right;\">\n",
       "      <th></th>\n",
       "      <th>V1</th>\n",
       "      <th>V2</th>\n",
       "      <th>grau</th>\n",
       "      <th>proximidade</th>\n",
       "      <th>prob_V1_V2</th>\n",
       "      <th>PROB_PREVISTO</th>\n",
       "    </tr>\n",
       "  </thead>\n",
       "  <tbody>\n",
       "    <tr>\n",
       "      <th>2</th>\n",
       "      <td>2</td>\n",
       "      <td>4</td>\n",
       "      <td>trabalho</td>\n",
       "      <td>visita_casual</td>\n",
       "      <td>NaN</td>\n",
       "      <td>0.522060</td>\n",
       "    </tr>\n",
       "    <tr>\n",
       "      <th>4</th>\n",
       "      <td>3</td>\n",
       "      <td>6</td>\n",
       "      <td>amigos</td>\n",
       "      <td>mora_junto</td>\n",
       "      <td>NaN</td>\n",
       "      <td>0.382076</td>\n",
       "    </tr>\n",
       "    <tr>\n",
       "      <th>6</th>\n",
       "      <td>4</td>\n",
       "      <td>8</td>\n",
       "      <td>familia</td>\n",
       "      <td>mora_junto</td>\n",
       "      <td>NaN</td>\n",
       "      <td>0.266457</td>\n",
       "    </tr>\n",
       "    <tr>\n",
       "      <th>9</th>\n",
       "      <td>5</td>\n",
       "      <td>11</td>\n",
       "      <td>trabalho</td>\n",
       "      <td>visita_casual</td>\n",
       "      <td>NaN</td>\n",
       "      <td>0.553215</td>\n",
       "    </tr>\n",
       "    <tr>\n",
       "      <th>10</th>\n",
       "      <td>6</td>\n",
       "      <td>12</td>\n",
       "      <td>familia</td>\n",
       "      <td>visita_casual</td>\n",
       "      <td>NaN</td>\n",
       "      <td>0.525948</td>\n",
       "    </tr>\n",
       "  </tbody>\n",
       "</table>\n",
       "</div>"
      ],
      "text/plain": [
       "    V1  V2      grau    proximidade  prob_V1_V2  PROB_PREVISTO\n",
       "2    2   4  trabalho  visita_casual         NaN       0.522060\n",
       "4    3   6    amigos     mora_junto         NaN       0.382076\n",
       "6    4   8   familia     mora_junto         NaN       0.266457\n",
       "9    5  11  trabalho  visita_casual         NaN       0.553215\n",
       "10   6  12   familia  visita_casual         NaN       0.525948"
      ]
     },
     "execution_count": 416,
     "metadata": {},
     "output_type": "execute_result"
    }
   ],
   "source": [
    "conexoes_to_predict.head()"
   ]
  },
  {
   "cell_type": "code",
   "execution_count": 417,
   "id": "75739105",
   "metadata": {},
   "outputs": [],
   "source": [
    "#salva em csv\n",
    "conexoes_to_predict.to_csv('previsoes_tx_contaminacao.csv')"
   ]
  },
  {
   "cell_type": "code",
   "execution_count": 418,
   "id": "abd3a09e",
   "metadata": {},
   "outputs": [
    {
     "data": {
      "text/plain": [
       "0.4847696117772584"
      ]
     },
     "execution_count": 418,
     "metadata": {},
     "output_type": "execute_result"
    }
   ],
   "source": [
    "conexoes_to_predict.PROB_PREVISTO.mean()"
   ]
  }
 ],
 "metadata": {
  "kernelspec": {
   "display_name": "Python (neoway)",
   "language": "python",
   "name": "neoway"
  },
  "language_info": {
   "codemirror_mode": {
    "name": "ipython",
    "version": 3
   },
   "file_extension": ".py",
   "mimetype": "text/x-python",
   "name": "python",
   "nbconvert_exporter": "python",
   "pygments_lexer": "ipython3",
   "version": "3.7.10"
  }
 },
 "nbformat": 4,
 "nbformat_minor": 5
}
